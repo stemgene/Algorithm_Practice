{
  "nbformat": 4,
  "nbformat_minor": 0,
  "metadata": {
    "colab": {
      "name": "Binary_Search.ipynb",
      "provenance": [],
      "authorship_tag": "ABX9TyO9LXw5n70+IHiOlTxeYRVw",
      "include_colab_link": true
    },
    "kernelspec": {
      "name": "python3",
      "display_name": "Python 3"
    }
  },
  "cells": [
    {
      "cell_type": "markdown",
      "metadata": {
        "id": "view-in-github",
        "colab_type": "text"
      },
      "source": [
        "<a href=\"https://colab.research.google.com/github/stemgene/Algorithm_Practice/blob/master/Binary_Search.ipynb\" target=\"_parent\"><img src=\"https://colab.research.google.com/assets/colab-badge.svg\" alt=\"Open In Colab\"/></a>"
      ]
    },
    {
      "cell_type": "code",
      "metadata": {
        "id": "tFHU7ehnFh1o",
        "colab_type": "code",
        "colab": {}
      },
      "source": [
        "# Binary Search\n",
        "\n",
        "Algorithm:\n",
        "1. Case 1: if nums[mid] == target → found!\n",
        "2. Case 2: if nums[mid] < target→ if exists, the target should be in the right half of the array, left=mid+1\n",
        "3. Case 3: if nums[mid] > target→ if exists, the target should be in the left half of the array, right=mid-1\n",
        "\n",
        "Principles:\n",
        "* Guarantee that the search space decreases after each iteration\n",
        "* Guarantee that the target (if exists) is not ruled out when we change the value of L or R"
      ],
      "execution_count": null,
      "outputs": []
    },
    {
      "cell_type": "code",
      "metadata": {
        "id": "CJSZWjZPFyoz",
        "colab_type": "code",
        "colab": {
          "base_uri": "https://localhost:8080/",
          "height": 34
        },
        "outputId": "16e4dc55-528f-4776-bccc-8d1a1d2e6fc1"
      },
      "source": [
        "alist = [1, 2, 3, 4, 5,6, 7, 8,9,10,11]\n",
        "n = len(alist)\n",
        "alist[n//2]"
      ],
      "execution_count": 1,
      "outputs": [
        {
          "output_type": "execute_result",
          "data": {
            "text/plain": [
              "6"
            ]
          },
          "metadata": {
            "tags": []
          },
          "execution_count": 1
        }
      ]
    },
    {
      "cell_type": "code",
      "metadata": {
        "id": "-FLDoKCQF2xD",
        "colab_type": "code",
        "colab": {
          "base_uri": "https://localhost:8080/",
          "height": 34
        },
        "outputId": "f9416ce7-05bf-4cc7-aeb1-80c40c2fe23c"
      },
      "source": [
        "def binary_search(alist, target):\n",
        "  # corner case\n",
        "  if not alist:\n",
        "    return None\n",
        "  \n",
        "  # alist is a sorted list\n",
        "  L, R = 0, len(alist)-1 # index\n",
        "  n = len(alist)\n",
        "  while L <= R:\n",
        "    mid = (R+L)//2\n",
        "    if alist[mid] == target:\n",
        "      return mid\n",
        "    elif alist[mid] < target:\n",
        "      L = mid + 1\n",
        "    elif alist[mid] > target:\n",
        "      R = mid - 1\n",
        "  return None\n",
        "\n",
        "\n",
        "alist = [1,2,3, 4, 5]\n",
        "binary_search(alist, 5)"
      ],
      "execution_count": 2,
      "outputs": [
        {
          "output_type": "execute_result",
          "data": {
            "text/plain": [
              "4"
            ]
          },
          "metadata": {
            "tags": []
          },
          "execution_count": 2
        }
      ]
    },
    {
      "cell_type": "code",
      "metadata": {
        "id": "gvOrD09GF6Yr",
        "colab_type": "code",
        "colab": {
          "base_uri": "https://localhost:8080/",
          "height": 85
        },
        "outputId": "5760451b-e791-405a-b7ce-bd999173ef44"
      },
      "source": [
        "def binary_search(alist, target):\n",
        "  # corner case\n",
        "  if not alist:\n",
        "    return None\n",
        "\n",
        "  left, right = 0, len(alist)-1\n",
        "  while left <= right:\n",
        "    mid = (left + right) // 2\n",
        "    if alist[mid] == target:\n",
        "      return mid\n",
        "    elif alist[mid] > target:\n",
        "      right = mid - 1\n",
        "    else:\n",
        "      left = mid + 1\n",
        "  return None\n",
        "\n",
        "print(binary_search([], 1))\n",
        "print(binary_search([1,2,3], 1))\n",
        "print(binary_search([1,2,3,5,8], 8))\n",
        "print(binary_search([1,2,3,5,8], 9))"
      ],
      "execution_count": 3,
      "outputs": [
        {
          "output_type": "stream",
          "text": [
            "None\n",
            "0\n",
            "4\n",
            "None\n"
          ],
          "name": "stdout"
        }
      ]
    }
  ]
}