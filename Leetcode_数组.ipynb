{
  "nbformat": 4,
  "nbformat_minor": 0,
  "metadata": {
    "colab": {
      "name": "Leetcode 数组.ipynb",
      "provenance": [],
      "authorship_tag": "ABX9TyOJceTGI6xguIG8aXjL0PM8",
      "include_colab_link": true
    },
    "kernelspec": {
      "name": "python3",
      "display_name": "Python 3"
    }
  },
  "cells": [
    {
      "cell_type": "markdown",
      "metadata": {
        "id": "view-in-github",
        "colab_type": "text"
      },
      "source": [
        "<a href=\"https://colab.research.google.com/github/stemgene/Algorithm_Practice/blob/master/Leetcode_%E6%95%B0%E7%BB%84.ipynb\" target=\"_parent\"><img src=\"https://colab.research.google.com/assets/colab-badge.svg\" alt=\"Open In Colab\"/></a>"
      ]
    },
    {
      "cell_type": "markdown",
      "metadata": {
        "id": "AfuogKskETKO",
        "colab_type": "text"
      },
      "source": [
        "# Leetcode 26.删除排序数组中的重复项"
      ]
    },
    {
      "cell_type": "markdown",
      "metadata": {
        "id": "NTlF2NOLDmXf",
        "colab_type": "text"
      },
      "source": [
        "给定一个排序数组，你需要在 原地 删除重复出现的元素，使得每个元素只出现一次，返回移除后数组的新长度。\n",
        "\n",
        "不要使用额外的数组空间，你必须在 原地 修改输入数组 并在使用 O(1) 额外空间的条件下完成。\n",
        "\n",
        " \n",
        "\n",
        "示例 1:\n",
        "```\n",
        "给定数组 nums = [1,1,2], \n",
        "\n",
        "函数应该返回新的长度 2, 并且原数组 nums 的前两个元素被修改为 1, 2。 \n",
        "\n",
        "你不需要考虑数组中超出新长度后面的元素。\n",
        "```\n",
        "示例 2:\n",
        "```\n",
        "给定 nums = [0,0,1,1,1,2,2,3,3,4],\n",
        "\n",
        "函数应该返回新的长度 5, 并且原数组 nums 的前五个元素被修改为 0, 1, 2, 3, 4。\n",
        "\n",
        "你不需要考虑数组中超出新长度后面的元素。\n",
        "```\n",
        "\n",
        "说明:\n",
        "\n",
        "为什么返回数值是整数，但输出的答案是数组呢?\n",
        "\n",
        "请注意，输入数组是以「引用」方式传递的，这意味着在函数里修改输入数组对于调用者是可见的。\n",
        "\n",
        "你可以想象内部操作如下:\n",
        "```\n",
        "// nums 是以“引用”方式传递的。也就是说，不对实参做任何拷贝\n",
        "int len = removeDuplicates(nums);\n",
        "\n",
        "// 在函数里修改输入数组对于调用者是可见的。\n",
        "// 根据你的函数返回的长度, 它会打印出数组中该长度范围内的所有元素。\n",
        "for (int i = 0; i < len; i++) {\n",
        "    print(nums[i]);\n",
        "}\n",
        "```\n",
        "来源：力扣（LeetCode）\n",
        "链接：https://leetcode-cn.com/problems/remove-duplicates-from-sorted-array\n",
        "著作权归领扣网络所有。商业转载请联系官方授权，非商业转载请注明出处。"
      ]
    },
    {
      "cell_type": "code",
      "metadata": {
        "id": "bApfZgsYEKFw",
        "colab_type": "code",
        "colab": {}
      },
      "source": [
        "class Solution:\n",
        "    def removeDuplicates(self, nums: List[int]) -> int:\n",
        "        i = 0\n",
        "        j = 1\n",
        "        while j < len(nums):\n",
        "            if nums[i] == nums[j]:\n",
        "                j += 1\n",
        "            else:\n",
        "                i += 1\n",
        "                nums[i] = nums[j]\n",
        "        del nums[i+1:]\n",
        "        return i + 1"
      ],
      "execution_count": null,
      "outputs": []
    },
    {
      "cell_type": "code",
      "metadata": {
        "id": "GIADhTomIdWE",
        "colab_type": "code",
        "colab": {}
      },
      "source": [
        "alist = [6,6,4]\n",
        "# method 1\n",
        "list(set(alist))\n",
        "# method 2\n",
        "{}.fromkeys(alist).keys()\n",
        "# 以上两个方法的问题是更改了原有顺序\n",
        "# 以下是不更改顺序的方法\n",
        "l2 = []\n",
        "for i in alist:\n",
        "    if not i in l2:\n",
        "        l2.append(i)\n",
        "print(l2)"
      ],
      "execution_count": null,
      "outputs": []
    },
    {
      "cell_type": "markdown",
      "metadata": {
        "id": "1w7VAJzvEti3",
        "colab_type": "text"
      },
      "source": [
        "## 剔重的方法 针对list\n",
        "\n",
        "1. `set(list)`，因为set中不能有重复的元素，所以可以直接拿来用。返回{1,2,3}这种set形式\n",
        "2. `np.unique(list)`, 返回array([1,2,3])"
      ]
    },
    {
      "cell_type": "markdown",
      "metadata": {
        "id": "Blbxtj_O5Ot4",
        "colab_type": "text"
      },
      "source": [
        "# Leetcode 66 加一"
      ]
    },
    {
      "cell_type": "markdown",
      "metadata": {
        "id": "gIagZsckMAd3",
        "colab_type": "text"
      },
      "source": [
        "给定一个由整数组成的非空数组所表示的非负整数，在该数的基础上加一。\n",
        "\n",
        "最高位数字存放在数组的首位， 数组中每个元素只存储单个数字。\n",
        "\n",
        "你可以假设除了整数 0 之外，这个整数不会以零开头。\n",
        "\n",
        "示例 1:\n",
        "```\n",
        "输入: [1,2,3]\n",
        "输出: [1,2,4]\n",
        "解释: 输入数组表示数字 123。\n",
        "```\n",
        "示例 2:\n",
        "```\n",
        "输入: [4,3,2,1]\n",
        "输出: [4,3,2,2]\n",
        "解释: 输入数组表示数字 4321。\n",
        "```\n",
        "示例 3:\n",
        "```\n",
        "输入: [9, 9]\n",
        "输出: [1, 0, 0]\n",
        "解释: 输入数组表示数字 99。\n",
        "```\n",
        "来源：力扣（LeetCode）\n",
        "链接：https://leetcode-cn.com/problems/plus-one\n",
        "著作权归领扣网络所有。商业转载请联系官方授权，非商业转载请注明出处。"
      ]
    },
    {
      "cell_type": "markdown",
      "metadata": {
        "id": "YvbgBnMgMQas",
        "colab_type": "text"
      },
      "source": [
        "思路：\n",
        "1. 将数组中的各个digit合并成integer. 如[1,2,3,4,5]需要转换为`1*10^(n-1)+2*10^(n-2)...`\n",
        "2. `+ 1`\n",
        "3. 通过`list(str(num))`来打散整数到各个数字，但返回的都是str，需要再转成int\n",
        "4. 将list中的各个元素转成int"
      ]
    },
    {
      "cell_type": "code",
      "metadata": {
        "id": "nybW_Ep4L-6k",
        "colab_type": "code",
        "colab": {
          "base_uri": "https://localhost:8080/",
          "height": 34
        },
        "outputId": "42a6978b-2fcb-4bc1-d667-ec0b25ad1759"
      },
      "source": [
        "def plusOne(digits):\n",
        "  n = len(digits)\n",
        "  num = 0\n",
        "  for i in range(n):\n",
        "    num += digits[i] * 10 ** (n-i-1)\n",
        "  num += 1\n",
        "  new_list = list(str(num))\n",
        "  result = map(lambda x: int(x), new_list) # map(function, iterate)，返回的是map格式，需要list(result)\n",
        "  return list(result)\n",
        "\n",
        "plusOne([1,2,3])"
      ],
      "execution_count": 18,
      "outputs": [
        {
          "output_type": "execute_result",
          "data": {
            "text/plain": [
              "[1, 2, 4]"
            ]
          },
          "metadata": {
            "tags": []
          },
          "execution_count": 18
        }
      ]
    },
    {
      "cell_type": "code",
      "metadata": {
        "id": "scvBNmknVRBs",
        "colab_type": "code",
        "colab": {
          "base_uri": "https://localhost:8080/",
          "height": 34
        },
        "outputId": "44ade847-1cd5-4756-8966-652650f8939b"
      },
      "source": [
        "list('str')"
      ],
      "execution_count": 11,
      "outputs": [
        {
          "output_type": "execute_result",
          "data": {
            "text/plain": [
              "['s', 't', 'r']"
            ]
          },
          "metadata": {
            "tags": []
          },
          "execution_count": 11
        }
      ]
    },
    {
      "cell_type": "markdown",
      "metadata": {
        "id": "msgUrSwZ5Xk4",
        "colab_type": "text"
      },
      "source": [
        "# Leetcode 350"
      ]
    },
    {
      "cell_type": "markdown",
      "metadata": {
        "id": "hUwrvNuA9GhD",
        "colab_type": "text"
      },
      "source": [
        "给定两个数组，编写一个函数来计算它们的交集。\n",
        "\n",
        " \n",
        "\n",
        "示例 1：\n",
        "```\n",
        "输入：nums1 = [1,2,2,1], nums2 = [2,2]\n",
        "输出：[2,2]\n",
        "```\n",
        "示例 2:\n",
        "```\n",
        "输入：nums1 = [4,9,5], nums2 = [9,4,9,8,4]\n",
        "输出：[4,9]\n",
        "```\n",
        "\n",
        "说明：\n",
        "\n",
        "* 输出结果中每个元素出现的次数，应与元素在两个数组中出现次数的最小值一致。\n",
        "* 我们可以不考虑输出结果的顺序。\n",
        "\n",
        "进阶：\n",
        "\n",
        "* 如果给定的数组已经排好序呢？你将如何优化你的算法？\n",
        "* 如果 nums1 的大小比 nums2 小很多，哪种方法更优？\n",
        "* 如果 nums2 的元素存储在磁盘上，磁盘内存是有限的，并且你不能一次加载所有的元素到内存中，你该怎么办？\n",
        "\n",
        "来源：力扣（LeetCode）\n",
        "链接：https://leetcode-cn.com/problems/intersection-of-two-arrays-ii\n",
        "著作权归领扣网络所有。商业转载请联系官方授权，非商业转载请注明出处。"
      ]
    },
    {
      "cell_type": "code",
      "metadata": {
        "id": "SgSdjSxrVwd1",
        "colab_type": "code",
        "colab": {}
      },
      "source": [
        "# counter #1\n",
        "#from collections import Counter\n",
        "def count_item1(alist):\n",
        "  d = dict()\n",
        "  for i in set(alist):\n",
        "    d[i] = alist.count(i)\n",
        "  return d\n",
        "\n",
        "# counter #2\n",
        "def count_item2(alist):\n",
        "  \n",
        "alist = [1,1,2,2,3]\n",
        "d1 = count_item1(alist)"
      ],
      "execution_count": 5,
      "outputs": []
    },
    {
      "cell_type": "code",
      "metadata": {
        "id": "05bfO8DYAVym",
        "colab_type": "code",
        "colab": {
          "base_uri": "https://localhost:8080/",
          "height": 34
        },
        "outputId": "39b476f8-0d4c-4121-9b84-23c6e0b3b73e"
      },
      "source": [
        "import numpy as np\n",
        "np.unique(alist)"
      ],
      "execution_count": 8,
      "outputs": [
        {
          "output_type": "execute_result",
          "data": {
            "text/plain": [
              "array([1, 2, 3])"
            ]
          },
          "metadata": {
            "tags": []
          },
          "execution_count": 8
        }
      ]
    },
    {
      "cell_type": "code",
      "metadata": {
        "id": "dl01V6bwB2ge",
        "colab_type": "code",
        "colab": {}
      },
      "source": [
        ""
      ],
      "execution_count": null,
      "outputs": []
    }
  ]
}