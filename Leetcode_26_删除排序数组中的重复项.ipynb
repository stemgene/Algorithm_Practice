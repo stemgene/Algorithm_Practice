{
  "nbformat": 4,
  "nbformat_minor": 0,
  "metadata": {
    "colab": {
      "name": "Leetcode 26.删除排序数组中的重复项.ipynb",
      "provenance": [],
      "authorship_tag": "ABX9TyNiB95WO9Ek/HQUIBMCFNpu",
      "include_colab_link": true
    },
    "kernelspec": {
      "name": "python3",
      "display_name": "Python 3"
    }
  },
  "cells": [
    {
      "cell_type": "markdown",
      "metadata": {
        "id": "view-in-github",
        "colab_type": "text"
      },
      "source": [
        "<a href=\"https://colab.research.google.com/github/stemgene/Algorithm_Practice/blob/master/Leetcode_26_%E5%88%A0%E9%99%A4%E6%8E%92%E5%BA%8F%E6%95%B0%E7%BB%84%E4%B8%AD%E7%9A%84%E9%87%8D%E5%A4%8D%E9%A1%B9.ipynb\" target=\"_parent\"><img src=\"https://colab.research.google.com/assets/colab-badge.svg\" alt=\"Open In Colab\"/></a>"
      ]
    },
    {
      "cell_type": "code",
      "metadata": {
        "id": "bAwx3S5tGJB9",
        "colab_type": "code",
        "colab": {
          "base_uri": "https://localhost:8080/",
          "height": 34
        },
        "outputId": "7acf121a-e65f-4ef9-dff1-4efa259917b9"
      },
      "source": [
        "alist = [6,6,4]\n",
        "# method 1\n",
        "list(set(alist))\n",
        "# method 2\n",
        "{}.fromkeys(alist).keys()\n",
        "# 以上两个方法的问题是更改了原有顺序\n",
        "# 以下是不更改顺序的方法\n",
        "l2 = []\n",
        "for i in alist:\n",
        "    if not i in l2:\n",
        "        l2.append(i)\n",
        "print(l2)"
      ],
      "execution_count": 1,
      "outputs": [
        {
          "output_type": "stream",
          "text": [
            "[6, 4]\n"
          ],
          "name": "stdout"
        }
      ]
    },
    {
      "cell_type": "code",
      "metadata": {
        "id": "saDQS4wMG9Wt",
        "colab_type": "code",
        "colab": {
          "base_uri": "https://localhost:8080/",
          "height": 51
        },
        "outputId": "5b3d18ea-9185-4215-8fbd-40fc458a76f0"
      },
      "source": [
        "def removeDuplicates(nums):\n",
        "        i = 0\n",
        "        j = 1\n",
        "        while j < len(nums):\n",
        "            if nums[i] == nums[j]:\n",
        "                j += 1\n",
        "            else:\n",
        "                i += 1\n",
        "                nums[i] = nums[j]\n",
        "        del nums[i+1:]\n",
        "        print(nums)\n",
        "        return i + 1\n",
        "removeDuplicates([1,2,2,3,3])"
      ],
      "execution_count": 2,
      "outputs": [
        {
          "output_type": "stream",
          "text": [
            "[1, 2, 3]\n"
          ],
          "name": "stdout"
        },
        {
          "output_type": "execute_result",
          "data": {
            "text/plain": [
              "3"
            ]
          },
          "metadata": {
            "tags": []
          },
          "execution_count": 2
        }
      ]
    }
  ]
}