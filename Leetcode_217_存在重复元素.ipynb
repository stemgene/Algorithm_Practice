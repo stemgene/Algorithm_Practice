{
  "nbformat": 4,
  "nbformat_minor": 0,
  "metadata": {
    "colab": {
      "name": "Leetcode 217 存在重复元素.ipynb",
      "provenance": [],
      "authorship_tag": "ABX9TyMMxtoKDWlc1fNB42yk3zUs",
      "include_colab_link": true
    },
    "kernelspec": {
      "name": "python3",
      "display_name": "Python 3"
    }
  },
  "cells": [
    {
      "cell_type": "markdown",
      "metadata": {
        "id": "view-in-github",
        "colab_type": "text"
      },
      "source": [
        "<a href=\"https://colab.research.google.com/github/stemgene/Algorithm_Practice/blob/master/Leetcode_217_%E5%AD%98%E5%9C%A8%E9%87%8D%E5%A4%8D%E5%85%83%E7%B4%A0.ipynb\" target=\"_parent\"><img src=\"https://colab.research.google.com/assets/colab-badge.svg\" alt=\"Open In Colab\"/></a>"
      ]
    },
    {
      "cell_type": "markdown",
      "metadata": {
        "id": "BcHxVm7gJ2K0",
        "colab_type": "text"
      },
      "source": [
        "给定一个整数数组，判断是否存在重复元素。\n",
        "\n",
        "如果任意一值在数组中出现至少两次，函数返回 `true` 。如果数组中每个元素都不相同，则返回 `false` 。\n",
        "\n",
        " \n",
        "\n",
        "示例 1:\n",
        "```\n",
        "输入: [1,2,3,1]\n",
        "输出: true\n",
        "```\n",
        "示例 2:\n",
        "```\n",
        "输入: [1,2,3,4]\n",
        "输出: false\n",
        "```\n",
        "示例 3:\n",
        "```\n",
        "输入: [1,1,1,3,3,4,3,2,4,2]\n",
        "输出: true\n",
        "```\n",
        "来源：力扣（LeetCode）\n",
        "链接：https://leetcode-cn.com/problems/contains-duplicate\n",
        "著作权归领扣网络所有。商业转载请联系官方授权，非商业转载请注明出处。"
      ]
    },
    {
      "cell_type": "code",
      "metadata": {
        "id": "9Aiq7d8TJ063",
        "colab_type": "code",
        "colab": {}
      },
      "source": [
        "class Solution:\n",
        "    def containsDuplicate(self, nums: List[int]) -> bool:\n",
        "        new_list = list(set(nums))\n",
        "        if len(new_list) != len(nums):\n",
        "            return True\n",
        "        else:\n",
        "            return False"
      ],
      "execution_count": null,
      "outputs": []
    }
  ]
}