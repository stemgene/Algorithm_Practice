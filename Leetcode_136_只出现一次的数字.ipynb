{
  "nbformat": 4,
  "nbformat_minor": 0,
  "metadata": {
    "colab": {
      "name": "Leetcode 136 只出现一次的数字.ipynb",
      "provenance": [],
      "authorship_tag": "ABX9TyP29snZfNQcJxLSi4A7ohRr",
      "include_colab_link": true
    },
    "kernelspec": {
      "name": "python3",
      "display_name": "Python 3"
    }
  },
  "cells": [
    {
      "cell_type": "markdown",
      "metadata": {
        "id": "view-in-github",
        "colab_type": "text"
      },
      "source": [
        "<a href=\"https://colab.research.google.com/github/stemgene/Algorithm_Practice/blob/master/Leetcode_136_%E5%8F%AA%E5%87%BA%E7%8E%B0%E4%B8%80%E6%AC%A1%E7%9A%84%E6%95%B0%E5%AD%97.ipynb\" target=\"_parent\"><img src=\"https://colab.research.google.com/assets/colab-badge.svg\" alt=\"Open In Colab\"/></a>"
      ]
    },
    {
      "cell_type": "markdown",
      "metadata": {
        "id": "dbZBzR49LgCY",
        "colab_type": "text"
      },
      "source": [
        "给定一个非空整数数组，除了某个元素只出现一次以外，其余每个元素均出现两次。找出那个只出现了一次的元素。\n",
        "\n",
        "说明：\n",
        "\n",
        "你的算法应该具有线性时间复杂度。 你可以不使用额外空间来实现吗？\n",
        "\n",
        "示例 1:\n",
        "```\n",
        "输入: [2,2,1]\n",
        "输出: 1\n",
        "```\n",
        "示例 2:\n",
        "```\n",
        "输入: [4,1,2,1,2]\n",
        "输出: 4\n",
        "```\n",
        "来源：力扣（LeetCode）\n",
        "链接：https://leetcode-cn.com/problems/single-number\n",
        "著作权归领扣网络所有。商业转载请联系官方授权，非商业转载请注明出处。"
      ]
    },
    {
      "cell_type": "code",
      "metadata": {
        "id": "ltkjjdytLcyg",
        "colab_type": "code",
        "colab": {}
      },
      "source": [
        "class Solution:\n",
        "    def singleNumber(self, nums: List[int]) -> int:\n",
        "        stack = dict()\n",
        "        for item in nums:\n",
        "            if item not in stack:\n",
        "                stack[item] = 1\n",
        "            else:\n",
        "                stack.pop(item)\n",
        "        return sorted(stack.items())[0][0]"
      ],
      "execution_count": null,
      "outputs": []
    }
  ]
}