{
  "nbformat": 4,
  "nbformat_minor": 0,
  "metadata": {
    "kernelspec": {
      "display_name": "Python 3",
      "language": "python",
      "name": "python3"
    },
    "language_info": {
      "codemirror_mode": {
        "name": "ipython",
        "version": 3
      },
      "file_extension": ".py",
      "mimetype": "text/x-python",
      "name": "python",
      "nbconvert_exporter": "python",
      "pygments_lexer": "ipython3",
      "version": "3.7.3"
    },
    "colab": {
      "name": "Leetcode Easy Top Interview Coding Questions.ipynb",
      "provenance": [],
      "collapsed_sections": [
        "xxiqEFzMq0xy",
        "gazyiXTlq0x7",
        "ELunC7hKq0yC",
        "U-qarN00q0yF",
        "_5v_xe9xq0yI",
        "XqOPmog8q0yL",
        "UYFIto4Mq0yP",
        "DWMAiKRmq0yS",
        "dV70ea5uq0yZ",
        "4XUQAg-fq0ye",
        "4ONugnl_q0yn",
        "abOXeTiYq0yq",
        "k-bnDV1qq0yt",
        "9lfjU1wmq0y2",
        "1rWLttuwq0y5",
        "5AfXk-J-q0y7",
        "FJTenFEUq0y-",
        "LGnA995rq0zB",
        "x5SGbGxoq0zF",
        "JMpc3DJDq0zM",
        "mahHpafQq0zU",
        "lLtvx5Opq0za",
        "UZnPWoNhq0zn",
        "R88fYKwXq0zq",
        "zS9rPpWvq0zt",
        "VyCKZOnrq0z3",
        "bdKPUtCuq0z5",
        "PlGhr-EBq0z7",
        "FfqI84oDq00D"
      ],
      "include_colab_link": true
    }
  },
  "cells": [
    {
      "cell_type": "markdown",
      "metadata": {
        "id": "view-in-github",
        "colab_type": "text"
      },
      "source": [
        "<a href=\"https://colab.research.google.com/github/stemgene/Algorithm_Practice/blob/master/Leetcode_Easy_Top_Interview_Coding_Questions.ipynb\" target=\"_parent\"><img src=\"https://colab.research.google.com/assets/colab-badge.svg\" alt=\"Open In Colab\"/></a>"
      ]
    },
    {
      "cell_type": "markdown",
      "metadata": {
        "id": "dtAGtOMOq0xb",
        "colab_type": "text"
      },
      "source": [
        "# Interview Coding Questions, Easy-level in Leetcode \n",
        "# and Elements of programming interviews in python"
      ]
    },
    {
      "cell_type": "markdown",
      "metadata": {
        "id": "F22P7olmq0xc",
        "colab_type": "text"
      },
      "source": [
        "## Math Functions"
      ]
    },
    {
      "cell_type": "markdown",
      "metadata": {
        "id": "d-25gOn9q0xd",
        "colab_type": "text"
      },
      "source": [
        "### Fizzbuzz\n",
        "\"Write a program that prints the numbers from 1 to 100. But for multiples of three print “Fizz” instead of the number and for the multiples of five print “Buzz”. For numbers which are multiples of both three and five print “FizzBuzz”.\"\n",
        "\n",
        "The reason this problem can be difficult is remembering that range(100) only goes from 0 to 99, and how to manage your inputs and outputs. It requires understanding conditional branching, so a common problem is writing x%3 before x%15 and outputting the value for x%3 instead of x%15. "
      ]
    },
    {
      "cell_type": "code",
      "metadata": {
        "id": "JMRVr1YWq0xe",
        "colab_type": "code",
        "colab": {}
      },
      "source": [
        "for num in range(1, 101):\n",
        "    if num % 15 is 0:\n",
        "        print(\"FizzBuzz\")\n",
        "    elif num % 3 is 0:\n",
        "        print(\"Fizz\")\n",
        "    elif num % 5 is 0:\n",
        "        print(\"Buzz\")\n",
        "    else:\n",
        "        print(num)"
      ],
      "execution_count": null,
      "outputs": []
    },
    {
      "cell_type": "markdown",
      "metadata": {
        "id": "CKnC4BFLq0xh",
        "colab_type": "text"
      },
      "source": [
        "Define as function, convert to string, and dump into a list version:\n",
        "\n",
        "Write a program that outputs the string representation of numbers from 1 to n. But for multiples of three it should output “Fizz” instead of the number and for the multiples of five output “Buzz”. For numbers which are multiples of both three and five output “FizzBuzz”."
      ]
    },
    {
      "cell_type": "code",
      "metadata": {
        "id": "sk6hI6Jbq0xi",
        "colab_type": "code",
        "colab": {}
      },
      "source": [
        "def fizzBuzz(n):\n",
        "    result=[]\n",
        "\n",
        "    for x in range(1,n+1):\n",
        "        if x%15==0:\n",
        "            result.append('FizzBuzz')\n",
        "        elif x%3==0:\n",
        "            result.append('Fizz')\n",
        "        elif x%5==0:\n",
        "            result.append('Buzz')\n",
        "        else:\n",
        "            result.append(str(x))\n",
        "    return result\n",
        "    \n",
        "fizzBuzz(10)    \n",
        "    "
      ],
      "execution_count": null,
      "outputs": []
    },
    {
      "cell_type": "markdown",
      "metadata": {
        "id": "czdp8O2jq0xl",
        "colab_type": "text"
      },
      "source": [
        "## Array Functions"
      ]
    },
    {
      "cell_type": "markdown",
      "metadata": {
        "id": "AEcoqqbdq0xl",
        "colab_type": "text"
      },
      "source": [
        "### Two Sum\n",
        "Given an array of integers, return indices of the two numbers such that they add up to a specific target.\n",
        "You may assume that each input would have exactly one solution, and you may not use the same element twice."
      ]
    },
    {
      "cell_type": "code",
      "metadata": {
        "id": "sw0UwiAUq0xm",
        "colab_type": "code",
        "colab": {}
      },
      "source": [
        "#Brute Force Solution, too slow, O(n**2) time\n",
        "def twoSum(nums, target):\n",
        "    for x in range(len(nums)):\n",
        "        for y in range(len(nums)):\n",
        "            if x !=y:\n",
        "                if target-nums[x]==nums[y]:\n",
        "                    return [x,y]\n",
        "\n",
        "#we need to speed up the search for the complement, so make a hash table/dictionary mapping element to index\n",
        "#we can use enumerate to add the index value in\n",
        "\n",
        "def twoSum(self, nums, target):\n",
        "        seen={} # instantiate a dictionary \n",
        "        \n",
        "        for i, x in enumerate(nums): #use enumerate to generate pairs of indices and elements, i and x\n",
        "            y= target-x  #find the value you're looking for\n",
        "            if y in seen:  # if it already exists in the table, return the indicies of x and y\n",
        "                return [i, seen[y]]\n",
        "            \n",
        "            seen[x]=i   # if it doesn't, add to dictionary and continue the loop\n",
        "        return []      # return nothing if there are no pairs           "
      ],
      "execution_count": null,
      "outputs": []
    },
    {
      "cell_type": "markdown",
      "metadata": {
        "id": "r_XJp81cq0xo",
        "colab_type": "text"
      },
      "source": [
        "### Remove duplicates from sorted array\n",
        "Given a sorted array nums, remove the duplicates in-place such that each element appear only once and return the new length. Do not allocate extra space for another array, you must do this by modifying the input array in-place with O(1) extra memory.\n",
        "\n",
        "Given nums = [0,0,1,1,1,2,2,3,3,4], Your function should return length = 5, with the first five elements of nums being modified to 0, 1, 2, 3, and 4 respectively. It doesn't matter what values are set beyond the returned length."
      ]
    },
    {
      "cell_type": "code",
      "metadata": {
        "id": "7NFNBSm5q0xp",
        "colab_type": "code",
        "colab": {}
      },
      "source": [
        "nums=[1,1,2]\n",
        "def removeDupes(nums): \n",
        "        if len(nums) == 0:\n",
        "            return 0\n",
        "        \n",
        "        for i in range(len(nums)-1,0,-1):\n",
        "            print(i)\n",
        "            if nums[i] == nums[i-1]:\n",
        "                nums.pop(i)\n",
        "                # or del nums[i]\n",
        "        \n",
        "        return nums, len(nums)\n",
        "\n",
        "removeDupes(nums)"
      ],
      "execution_count": null,
      "outputs": []
    },
    {
      "cell_type": "markdown",
      "metadata": {
        "id": "g1QTPvLyq0xr",
        "colab_type": "text"
      },
      "source": [
        "### Best time to buy and sell stock II\n",
        "Say you have an array prices for which the ith element is the price of a given stock on day i.\n",
        "Design an algorithm to find the maximum profit. You may complete as many transactions as you like (i.e., buy one and sell one share of the stock multiple times).\n",
        "Note: You may not engage in multiple transactions at the same time (i.e., you must sell the stock before you buy again).\n",
        "\n",
        "Input: [7,1,5,3,6,4]\n",
        "Output: 7\n",
        "Explanation: Buy on day 2 (price = 1) and sell on day 3 (price = 5), profit = 5-1 = 4.\n",
        "             Then buy on day 4 (price = 3) and sell on day 5 (price = 6), profit = 6-3 = 3.\n",
        "Input: [1,2,3,4,5]\n",
        "Output: 4\n",
        "Explanation: Buy on day 1 (price = 1) and sell on day 5 (price = 5), profit = 5-1 = 4.\n",
        "             Note that you cannot buy on day 1, buy on day 2 and sell them later, as you are\n",
        "             engaging multiple transactions at the same time. You must sell before buying again."
      ]
    },
    {
      "cell_type": "code",
      "metadata": {
        "id": "EAoS-UbQq0xs",
        "colab_type": "code",
        "colab": {}
      },
      "source": [
        "### this is dependent on understanding the \"greedy\" aspect of the algorithm... \n",
        "## taking one bite at a time gets us more profit than waiting for a better price\n",
        "## assumes you can buy and sell on the same day, e.g. 1 4 5 profit= 3+1, not 1 4 5 profit=1 \n",
        "\n",
        "def maxProfit(prices):\n",
        "    ans = 0\n",
        "    for i in range(1,len(prices)):\n",
        "        if prices[i] - prices[i-1] >0:\n",
        "            ans+=(prices[i] - prices[i-1])\n",
        "    return ans"
      ],
      "execution_count": null,
      "outputs": []
    },
    {
      "cell_type": "markdown",
      "metadata": {
        "id": "oJelDe1vq0xv",
        "colab_type": "text"
      },
      "source": [
        "### Rotate Array\n",
        "Given an array, rotate the array to the right by k steps, where k is non-negative."
      ]
    },
    {
      "cell_type": "code",
      "metadata": {
        "id": "QCsBaMuQq0xv",
        "colab_type": "code",
        "colab": {}
      },
      "source": [
        "    def rotate(self, nums, k):\n",
        "\n",
        "        n=0\n",
        "        while n<k:\n",
        "            nums.insert(0, nums.pop(len(nums)-1))\n",
        "            # also nums= [nums.pop(len(nums)-1)] + nums\n",
        "            # or nums[:0]=[nums.pop(len(nums)-1)]\n",
        "            n +=1"
      ],
      "execution_count": null,
      "outputs": []
    },
    {
      "cell_type": "markdown",
      "metadata": {
        "id": "xxiqEFzMq0xy",
        "colab_type": "text"
      },
      "source": [
        "### Contains Duplicate \n",
        "Given an array of integers, find if the array contains any duplicates.\n",
        "\n",
        "Your function should return true if any value appears at least twice in the array, and it should return false if every element is distinct."
      ]
    },
    {
      "cell_type": "code",
      "metadata": {
        "id": "gb9N1JAYq0xz",
        "colab_type": "code",
        "colab": {}
      },
      "source": [
        "# easy solution\n",
        "def containsDuplicate(self, nums: List[int]) -> bool:\n",
        "    if len(nums)==0:\n",
        "        return False\n",
        "\n",
        "    if len(set(nums))!=len(nums):\n",
        "        return True\n",
        "\n",
        "    return False"
      ],
      "execution_count": null,
      "outputs": []
    },
    {
      "cell_type": "code",
      "metadata": {
        "id": "PrCLk8dsq0x1",
        "colab_type": "code",
        "colab": {}
      },
      "source": [
        "# dump into a new set\n",
        "def containsDuplicate(self, nums: List[int]) -> bool:\n",
        "\n",
        "    seen=set()\n",
        "\n",
        "    if len(nums)<2:\n",
        "        return False\n",
        "\n",
        "    for x in range(len(nums)):\n",
        "        if nums[x] not in seen:\n",
        "            seen.add(nums[x])\n",
        "        else:\n",
        "            return True\n",
        "\n",
        "    return False"
      ],
      "execution_count": null,
      "outputs": []
    },
    {
      "cell_type": "code",
      "metadata": {
        "id": "Fy52iPitq0x4",
        "colab_type": "code",
        "colab": {}
      },
      "source": [
        "# without using set(nums) or dumping into set()\n",
        "def containsDuplicate(self, nums: List[int]) -> bool:\n",
        "\n",
        "    seen={}\n",
        "\n",
        "    if len(nums)<2:\n",
        "        return False\n",
        "\n",
        "    for x in range(len(nums)):\n",
        "        if nums[x] not in seen:\n",
        "            seen[nums[x]]=True\n",
        "        else:\n",
        "            return True\n",
        "\n",
        "    return False"
      ],
      "execution_count": null,
      "outputs": []
    },
    {
      "cell_type": "markdown",
      "metadata": {
        "id": "gazyiXTlq0x7",
        "colab_type": "text"
      },
      "source": [
        "### Single Number\n",
        "Given a non-empty array of integers, every element appears twice except for one. Find that single one. Note: Your algorithm should have a linear runtime complexity. Could you implement it without using extra memory?"
      ]
    },
    {
      "cell_type": "code",
      "metadata": {
        "id": "VsN9p-fkq0x7",
        "colab_type": "code",
        "colab": {}
      },
      "source": [
        "# math-y solution using set()\n",
        "return sum(set(nums)) * 2 - sum(nums)"
      ],
      "execution_count": null,
      "outputs": []
    },
    {
      "cell_type": "code",
      "metadata": {
        "id": "5eVUxC50q0x_",
        "colab_type": "code",
        "colab": {}
      },
      "source": [
        "def singleNumber(self, nums: List[int]) -> int:\n",
        "\n",
        "    for x in range(len(nums)):\n",
        "        a= nums.pop(x)\n",
        "        if a not in nums:\n",
        "            return a\n",
        "        else:\n",
        "            nums.insert(x,a)"
      ],
      "execution_count": null,
      "outputs": []
    },
    {
      "cell_type": "markdown",
      "metadata": {
        "id": "ELunC7hKq0yC",
        "colab_type": "text"
      },
      "source": [
        "### Intersection of Two Arrays II\n",
        "Given two arrays, write a function to compute their intersection. \n",
        "Example 1:\n",
        "\n",
        "Input: nums1 = [1,2,2,1], nums2 = [2,2]\n",
        "Output: [2,2]\n",
        "\n",
        "Note:\n",
        "\n",
        "    Each element in the result should appear as many times as it shows in both arrays.\n",
        "    The result can be in any order.\n",
        "\n",
        "Follow up:\n",
        "\n",
        "    What if the given array is already sorted? How would you optimize your algorithm?\n",
        "    What if nums1's size is small compared to nums2's size? Which algorithm is better?\n",
        "    What if elements of nums2 are stored on disk, and the memory is limited such that you cannot load all elements into the memory at once?\n"
      ]
    },
    {
      "cell_type": "code",
      "metadata": {
        "id": "u8Qw_U-0q0yC",
        "colab_type": "code",
        "colab": {}
      },
      "source": [
        "    def intersect(self, nums1: List[int], nums2: List[int]) -> List[int]:\n",
        "        \n",
        "        #identify the shorter array\n",
        "        if len(nums1)>len(nums2):\n",
        "            a=nums2\n",
        "            b=nums1\n",
        "        else:\n",
        "            a=nums1\n",
        "            b=nums2\n",
        "        \n",
        "        isec=[]\n",
        "        #iterate through shorter array for common values\n",
        "        for x in a:\n",
        "            if x in b:\n",
        "                b.remove(x)\n",
        "                isec.append(x)\n",
        "        \n",
        "        return isec"
      ],
      "execution_count": null,
      "outputs": []
    },
    {
      "cell_type": "markdown",
      "metadata": {
        "id": "U-qarN00q0yF",
        "colab_type": "text"
      },
      "source": [
        "### Plus one (page 47 elements programming interviews)\n",
        "Given a non-empty array of digits representing a non-negative integer, plus one to the integer.\n",
        "\n",
        "The digits are stored such that the most significant digit is at the head of the list, and each element in the array contain a single digit.\n",
        "\n",
        "You may assume the integer does not contain any leading zero, except the number 0 itself."
      ]
    },
    {
      "cell_type": "code",
      "metadata": {
        "id": "fupah07Rq0yF",
        "colab_type": "code",
        "colab": {}
      },
      "source": [
        "    def plusOne(self, digits: List[int]) -> List[int]:\n",
        "        \n",
        "        digits[-1] +=1 #add one to the last value\n",
        "        \n",
        "        for i in reversed(range(1, len(digits))): #starting from the end\n",
        "            if digits[i]!= 10:  #if the last value is less than ten, you're done\n",
        "                break\n",
        "            else:\n",
        "                digits[i]=0   #otherwise you need to \"carry the one\"\n",
        "                digits[i-1] +=1  # by adding one to the next value\n",
        "        if digits[0]==10:  #in only one condition will you need to add a place (e.g. 9999)\n",
        "            digits[0]=1   #set the first value to one, the rest should be zeros now\n",
        "            digits.append(0)  #then just add another zero\n",
        "                \n",
        "        return digits"
      ],
      "execution_count": null,
      "outputs": []
    },
    {
      "cell_type": "markdown",
      "metadata": {
        "id": "_5v_xe9xq0yI",
        "colab_type": "text"
      },
      "source": [
        "### Move zeros\n",
        "Given an array nums, write a function to move all 0's to the end of it while maintaining the relative order of the non-zero elements.\n",
        "\n",
        "Example:\n",
        "\n",
        "Input: [0,1,0,3,12]\n",
        "Output: [1,3,12,0,0]\n",
        "\n",
        "Note:\n",
        "\n",
        "    You must do this in-place without making a copy of the array.\n",
        "    Minimize the total number of operations."
      ]
    },
    {
      "cell_type": "code",
      "metadata": {
        "id": "nTQdVVA0q0yJ",
        "colab_type": "code",
        "colab": {}
      },
      "source": [
        "        for x in reversed(range(len(nums))):\n",
        "            if nums[x]==0:\n",
        "                a=nums.pop(x)\n",
        "                nums.append(a)"
      ],
      "execution_count": null,
      "outputs": []
    },
    {
      "cell_type": "markdown",
      "metadata": {
        "id": "XqOPmog8q0yL",
        "colab_type": "text"
      },
      "source": [
        "### Valid Sudoku (pg. 66 in EPIiP)\n",
        "\n",
        "Determine if a 9x9 Sudoku board is valid. Only the filled cells need to be validated according to the following rules:\n",
        "\n",
        "    Each row must contain the digits 1-9 without repetition.\n",
        "    Each column must contain the digits 1-9 without repetition.\n",
        "    Each of the 9 3x3 sub-boxes of the grid must contain the digits 1-9 without repetition.\n"
      ]
    },
    {
      "cell_type": "code",
      "metadata": {
        "id": "s399I7Azq0yL",
        "colab_type": "code",
        "colab": {}
      },
      "source": [
        "#definitely the brute force solution!\n",
        "\n",
        "def isValidSudoku(self, board: List[List[str]]) -> bool:\n",
        "        \n",
        "        s= set()\n",
        "        s2= set()\n",
        "        s3= set()\n",
        "        \n",
        "        \n",
        "        for i in range(9):\n",
        "            s= set()\n",
        "            for j in range(9):\n",
        "                \n",
        "                if board[i][j]=='.':\n",
        "                    continue\n",
        "                elif board[i][j] not in s:\n",
        "                    s.add(board[i][j])\n",
        "                else:\n",
        "                    print(i,j,'one')\n",
        "                    return False\n",
        "         \n",
        "        for j in range(9):\n",
        "            s2=set()\n",
        "            for i in range(9):\n",
        "                \n",
        "                if board[i][j]=='.':\n",
        "                    continue\n",
        "                elif board[i][j] not in s2:\n",
        "                    s2.add(board[i][j])\n",
        "                else:\n",
        "                    print(i,j,'two')\n",
        "                    return False\n",
        "                \n",
        "        for L in range(0,9,3):\n",
        "            for k in range(0,9,3):\n",
        "                s3= set()\n",
        "                for i in range(3):\n",
        "                    for j in range(3):\n",
        "        \n",
        "                        if board[i+L][j+k]=='.':\n",
        "                            continue\n",
        "                        elif board[i+L][j+k] not in s3:\n",
        "                            s3.add(board[i+L][j+k])\n",
        "                            print(i+L,j+k,k)\n",
        "                            print(s3)\n",
        "                        else:\n",
        "                            print(i+L,j+k,k,L,'three')\n",
        "                            return False\n",
        "        \n",
        "        return True"
      ],
      "execution_count": null,
      "outputs": []
    },
    {
      "cell_type": "markdown",
      "metadata": {
        "id": "UYFIto4Mq0yP",
        "colab_type": "text"
      },
      "source": [
        "### Rotate Image (page 71 EPIiP)\n",
        "You are given an n x n 2D matrix representing an image.\n",
        "\n",
        "Rotate the image by 90 degrees (clockwise).\n",
        "\n",
        "Note:\n",
        "\n",
        "You have to rotate the image in-place, which means you have to modify the input 2D matrix directly. DO NOT allocate another 2D matrix and do the rotation.\n"
      ]
    },
    {
      "cell_type": "code",
      "metadata": {
        "id": "Kh8rA_Eoq0yP",
        "colab_type": "code",
        "colab": {}
      },
      "source": [
        ""
      ],
      "execution_count": null,
      "outputs": []
    },
    {
      "cell_type": "markdown",
      "metadata": {
        "id": "3uF81ltbq0yR",
        "colab_type": "text"
      },
      "source": [
        "## Strings\n",
        "pretty dang common category!"
      ]
    },
    {
      "cell_type": "markdown",
      "metadata": {
        "id": "DWMAiKRmq0yS",
        "colab_type": "text"
      },
      "source": [
        "### Reverse String\n",
        "\n",
        "Write a function that reverses a string. The input string is given as an array of characters char[].\n",
        "\n",
        "Do not allocate extra space for another array, you must do this by modifying the input array in-place with O(1) extra memory.\n",
        "\n",
        "You may assume all the characters consist of printable ascii characters.\n",
        "\n",
        "Example 1:\n",
        "\n",
        "Input: [\"h\",\"e\",\"l\",\"l\",\"o\"]\n",
        "Output: [\"o\",\"l\",\"l\",\"e\",\"h\"]\n"
      ]
    },
    {
      "cell_type": "code",
      "metadata": {
        "id": "WeJEPq_vq0yS",
        "colab_type": "code",
        "colab": {}
      },
      "source": [
        "def reverseString(self, s: List[str]) -> None:\n",
        "        mid= len(s)//2 \n",
        "        \n",
        "        for i in range(mid):\n",
        "            s[i],s[-(i+1)]= s[-(i+1)],s[i]"
      ],
      "execution_count": null,
      "outputs": []
    },
    {
      "cell_type": "code",
      "metadata": {
        "id": "GWG8LJKmq0yU",
        "colab_type": "code",
        "colab": {}
      },
      "source": [
        "#use the tilde operator ~i= -(i+1)\n",
        "\n",
        "        mid= len(s)//2 \n",
        "        \n",
        "        for i in range(mid):\n",
        "            s[i],s[~i]= s[~i],s[i]"
      ],
      "execution_count": null,
      "outputs": []
    },
    {
      "cell_type": "code",
      "metadata": {
        "id": "wPNY6DjVq0yX",
        "colab_type": "code",
        "colab": {}
      },
      "source": [
        "s= [\"h\",\"e\",\"l\",\"l\",\"o\"]\n",
        "s[::-1]"
      ],
      "execution_count": null,
      "outputs": []
    },
    {
      "cell_type": "markdown",
      "metadata": {
        "id": "dV70ea5uq0yZ",
        "colab_type": "text"
      },
      "source": [
        "### Reverse Integer\n",
        "Given a 32-bit signed integer, reverse digits of an integer\n",
        "Input: -123\n",
        "Output: -321"
      ]
    },
    {
      "cell_type": "code",
      "metadata": {
        "id": "o-3Km1ETq0yZ",
        "colab_type": "code",
        "colab": {}
      },
      "source": [
        "# simple answer: read the int as a string, traverse it backward, \n",
        "# read it as an int and reapply the neg sign and the 32 bit requirement\n",
        "    def reverse(self, x: int) -> int:\n",
        "        \n",
        "        if x<0:\n",
        "            neg=True\n",
        "            x=abs(x)\n",
        "        elif x>0:\n",
        "            neg= False\n",
        "        else:\n",
        "            return 0\n",
        "        \n",
        "        x=str(x)\n",
        "        x=x[::-1]\n",
        "        x=int(x)\n",
        "        \n",
        "        if neg:\n",
        "            x=x*-1\n",
        "        \n",
        "        if x>((2**31)-1) or x<(-2**31):\n",
        "            return 0\n",
        "            \n",
        "        return x\n"
      ],
      "execution_count": null,
      "outputs": []
    },
    {
      "cell_type": "code",
      "metadata": {
        "id": "aURxhNVCq0yc",
        "colab_type": "code",
        "colab": {}
      },
      "source": [
        "# otherwise you can mod 10 the end of the integer, and dump it into a temporary variable\n",
        "    def reverse(self, x: int) -> int:\n",
        "        \n",
        "        if x<0:\n",
        "            neg=True\n",
        "            x=abs(x)\n",
        "        elif x>0:\n",
        "            neg= False\n",
        "        else:\n",
        "            return 0\n",
        "        \n",
        "        y=0\n",
        "        while x!=0:\n",
        "            y= y*10\n",
        "            y= y+x%10\n",
        "            x= x//10\n",
        "        \n",
        "        if neg:\n",
        "            y=y*-1\n",
        "        \n",
        "        if y>((2**31)-1) or y<(-2**31):\n",
        "            return 0\n",
        "            \n",
        "        return y"
      ],
      "execution_count": null,
      "outputs": []
    },
    {
      "cell_type": "markdown",
      "metadata": {
        "id": "4XUQAg-fq0ye",
        "colab_type": "text"
      },
      "source": [
        "### First Unique Character in a String"
      ]
    },
    {
      "cell_type": "code",
      "metadata": {
        "id": "mbXENa_Mq0yf",
        "colab_type": "code",
        "colab": {}
      },
      "source": [
        ""
      ],
      "execution_count": null,
      "outputs": []
    },
    {
      "cell_type": "code",
      "metadata": {
        "id": "AadUqoQnq0yi",
        "colab_type": "code",
        "colab": {}
      },
      "source": [
        "# use a counter\n",
        "\n",
        "def firstUniqChar(self, s: str) -> int:   \n",
        "    counter = Counter(s)\n",
        "\n",
        "    for i in range(len(s)):\n",
        "        char = s[i]\n",
        "        if counter[char]==1: \n",
        "            return i\n",
        "\n",
        "    return -1"
      ],
      "execution_count": null,
      "outputs": []
    },
    {
      "cell_type": "code",
      "metadata": {
        "id": "Wls6Lw-Zq0yl",
        "colab_type": "code",
        "colab": {}
      },
      "source": [
        "## DOESNT WORK AS WRITTEN, ws trying to use dict alone...\n",
        "\n",
        "seen={}\n",
        "        for i in reversed(range(len(s))):\n",
        "            if s[i] not in seen:\n",
        "                seen[s[i]]=0\n",
        "                val=i\n",
        "            else:\n",
        "                seen[s[i]] +=1\n",
        "        \n",
        "        if 0 not in seen.values():\n",
        "            return -1\n",
        "        else:\n",
        "            return s[2]\n",
        "        \n",
        "        print(seen)\n",
        "        return val"
      ],
      "execution_count": null,
      "outputs": []
    },
    {
      "cell_type": "markdown",
      "metadata": {
        "id": "4ONugnl_q0yn",
        "colab_type": "text"
      },
      "source": [
        "### Valid Anagram\n",
        "Given two strings s and t , write a function to determine if t is an anagram of s.\n",
        "\n",
        "Input: s = \"anagram\", t = \"nagaram\"\n",
        "Output: true\n"
      ]
    },
    {
      "cell_type": "code",
      "metadata": {
        "id": "fDS4DHfeq0yn",
        "colab_type": "code",
        "colab": {}
      },
      "source": [
        "# trivial solution\n",
        "def isAnagram(self, s: str, t: str) -> bool:\n",
        "\n",
        "    s_count= Counter(s)\n",
        "    t_count= Counter(t)\n",
        "\n",
        "    if s_count==t_count:\n",
        "        return True\n",
        "    else:\n",
        "        return False"
      ],
      "execution_count": null,
      "outputs": []
    },
    {
      "cell_type": "markdown",
      "metadata": {
        "id": "abOXeTiYq0yq",
        "colab_type": "text"
      },
      "source": [
        "### Valid Palindrome (pg 80 in EPIiP)\n",
        "Given a string, determine if it is a palindrome, considering only alphanumeric characters and ignoring cases.\n",
        "\n",
        "Note: For the purpose of this problem, we define empty string as valid palindrome.\n",
        "\n",
        "Example 1:\n",
        "\n",
        "Input: \"A man, a plan, a canal: Panama\"\n",
        "Output: true"
      ]
    },
    {
      "cell_type": "code",
      "metadata": {
        "id": "Ir7Sswozq0yq",
        "colab_type": "code",
        "colab": {}
      },
      "source": [
        "# dumps the string into a temporary variable without uppercase or special chars\n",
        "# to \n",
        "def isPalindrome(self, s: str) -> bool:\n",
        "        \n",
        "        if len(s)==0:\n",
        "            return True\n",
        "        \n",
        "        temp= str()\n",
        "        for i in range(len(s)):\n",
        "            if s[i].isalnum():\n",
        "                if s[i].isupper():\n",
        "                    temp= temp+s[i].lower()\n",
        "                else:\n",
        "                    temp=temp+s[i]\n",
        "\n",
        "        for j in range(len(temp)//2):\n",
        "            if temp[j]!=temp[~j]:\n",
        "                return False\n",
        "        \n",
        "        return True"
      ],
      "execution_count": null,
      "outputs": []
    },
    {
      "cell_type": "markdown",
      "metadata": {
        "id": "k-bnDV1qq0yt",
        "colab_type": "text"
      },
      "source": [
        "### String to Integer (atoi)\n",
        "\n",
        "Implement atoi which converts a string to an integer.\n",
        "\n",
        "The function first discards as many whitespace characters as necessary until the first non-whitespace character is found. Then, starting from this character, takes an optional initial plus or minus sign followed by as many numerical digits as possible, and interprets them as a numerical value.\n",
        "\n",
        "The string can contain additional characters after those that form the integral number, which are ignored and have no effect on the behavior of this function.\n",
        "\n",
        "If the first sequence of non-whitespace characters in str is not a valid integral number, or if no such sequence exists because either str is empty or it contains only whitespace characters, no conversion is performed.\n",
        "\n",
        "If no valid conversion could be performed, a zero value is returned.\n",
        "\n",
        "Note:\n",
        "\n",
        "    Only the space character ' ' is considered as whitespace character.\n",
        "    Assume we are dealing with an environment which could only store integers within the 32-bit signed integer range: [−231,  231 − 1]. If the numerical value is out of the range of representable values, INT_MAX (231 − 1) or INT_MIN (−231) is returned.\n"
      ]
    },
    {
      "cell_type": "code",
      "metadata": {
        "id": "W4XoS-Ngq0yu",
        "colab_type": "code",
        "colab": {}
      },
      "source": [
        "class Solution:\n",
        "    def myAtoi(self, str: str) -> int:\n",
        "        my_str = str.lstrip() # remove all left whitespaces\n",
        "        if not my_str:\n",
        "            return 0\n",
        "        if my_str[0].isdigit():\n",
        "            return min(self.helper(my_str, 0, len(my_str)), 2147483647)\n",
        "        if my_str[0] == '+':\n",
        "            return min(self.helper(my_str, 1, len(my_str)), 2147483647)\n",
        "        if my_str[0] == '-':\n",
        "            return max(-self.helper(my_str, 1, len(my_str)), -2147483648)\n",
        "        return 0\n",
        "    \n",
        "    def helper(self, my_str, p, length):\n",
        "        res = 0\n",
        "        while p < length and my_str[p].isdigit():\n",
        "            res = res*10 + int(my_str[p])\n",
        "            p += 1\n",
        "        return res"
      ],
      "execution_count": null,
      "outputs": []
    },
    {
      "cell_type": "markdown",
      "metadata": {
        "id": "9lfjU1wmq0y2",
        "colab_type": "text"
      },
      "source": [
        "### Implement strStr() (page 88 EPIiP)\n",
        "Implement strStr().\n",
        "\n",
        "Return the index of the first occurrence of needle in haystack, or -1 if needle is not part of haystack.\n",
        "\n",
        "Input: haystack = \"hello\", needle = \"ll\"\n",
        "Output: 2"
      ]
    },
    {
      "cell_type": "code",
      "metadata": {
        "id": "vD2Cr3PRq0y3",
        "colab_type": "code",
        "colab": {}
      },
      "source": [
        "# trivial solution\n",
        "def strStr(self, haystack: str, needle: str) -> int:\n",
        "\n",
        "    if needle in haystack:\n",
        "        return haystack.index(needle)\n",
        "    else:\n",
        "        return -1"
      ],
      "execution_count": null,
      "outputs": []
    },
    {
      "cell_type": "markdown",
      "metadata": {
        "id": "1rWLttuwq0y5",
        "colab_type": "text"
      },
      "source": [
        "### Count and Say, aka Look and Say problem\n",
        "The count-and-say sequence is the sequence of integers with the first five terms as following:\n",
        "\n",
        "1.     1\n",
        "2.     11\n",
        "3.     21\n",
        "4.     1211\n",
        "5.     111221\n",
        "\n",
        "1 is read off as \"one 1\" or 11.\n",
        "11 is read off as \"two 1s\" or 21.\n",
        "21 is read off as \"one 2, then one 1\" or 1211.\n",
        "\n",
        "Given an integer n where 1 ≤ n ≤ 30, generate the nth term of the count-and-say sequence. You can do so recursively, in other words from the previous member read off the digits, counting the number of digits in groups of the same digit.\n",
        "\n",
        "Note: Each term of the sequence of integers will be represented as a string.\n"
      ]
    },
    {
      "cell_type": "code",
      "metadata": {
        "id": "28Dawrffq0y5",
        "colab_type": "code",
        "colab": {}
      },
      "source": [
        "class Solution:\n",
        "    def countAndSay(self, n: int) -> str:\n",
        "        if n<0:\n",
        "            print('incorrect input')\n",
        "        if n==1:\n",
        "            return '1'\n",
        "        \n",
        "        s= self.countAndSay(n-1)\n",
        "        \n",
        "        i=0\n",
        "        out=''\n",
        "        while i<len(s):\n",
        "            count=1\n",
        "            while i+1 <len(s) and s[i]==s[i+1]:\n",
        "                count +=1\n",
        "                i +=1\n",
        "            out= out+ str(count)+s[i]\n",
        "            i +=1\n",
        "        \n",
        "        return out"
      ],
      "execution_count": null,
      "outputs": []
    },
    {
      "cell_type": "markdown",
      "metadata": {
        "id": "5AfXk-J-q0y7",
        "colab_type": "text"
      },
      "source": [
        "### Longest common prefix\n",
        "Write a function to find the longest common prefix string amongst an array of strings.\n",
        "\n",
        "If there is no common prefix, return an empty string \"\".\n",
        "\n",
        "Input: [\"flower\",\"flow\",\"flight\"]\n",
        "Output: \"fl\""
      ]
    },
    {
      "cell_type": "code",
      "metadata": {
        "id": "GalKsmGCq0y7",
        "colab_type": "code",
        "colab": {}
      },
      "source": [
        "    def longestCommonPrefix(self, strs: List[str]) -> str:\n",
        "        \n",
        "        if len(strs)==0:\n",
        "            return ''\n",
        "        \n",
        "        lengths=[]\n",
        "        for i in strs:\n",
        "            lengths.append(len(i))\n",
        "        \n",
        "        short=min(lengths)\n",
        "        \n",
        "        prefix=''\n",
        "        for j in range(short):\n",
        "            pre=[]\n",
        "            for i in range(len(strs)):\n",
        "                pre.append(strs[i][j])\n",
        "            \n",
        "            if pre.count(pre[0])!=len(strs):\n",
        "                return prefix\n",
        "            else:\n",
        "                prefix=prefix+pre[0]\n",
        "        \n",
        "        return prefix"
      ],
      "execution_count": null,
      "outputs": []
    },
    {
      "cell_type": "markdown",
      "metadata": {
        "id": "hwwymxmSq0y-",
        "colab_type": "text"
      },
      "source": [
        "## Linked Lists"
      ]
    },
    {
      "cell_type": "markdown",
      "metadata": {
        "id": "FJTenFEUq0y-",
        "colab_type": "text"
      },
      "source": [
        "### Delete Node in a Linked List (pg 98)\n",
        "Write a function to delete a node (except the tail) in a singly linked list, given only access to that node.\n",
        "\n",
        "Given linked list -- head = [4,5,1,9], which looks like following:\n",
        "![image.png](attachment:image.png)\n",
        "Input: head = [4,5,1,9], node = 5\n",
        "Output: [4,1,9]\n",
        "Explanation: You are given the second node with value 5, the linked list should become 4 -> 1 -> 9 after calling your function.\n",
        "\n",
        "    The linked list will have at least two elements.\n",
        "    All of the nodes' values will be unique.\n",
        "    The given node will not be the tail and it will always be a valid node of the linked list.\n",
        "    Do not return anything from your function.\n"
      ]
    },
    {
      "cell_type": "code",
      "metadata": {
        "id": "OnX--YbAq0y_",
        "colab_type": "code",
        "colab": {}
      },
      "source": [
        "# Definition for singly-linked list.\n",
        "# class ListNode:\n",
        "#     def __init__(self, x):\n",
        "#         self.val = x\n",
        "#         self.next = None\n",
        "\n",
        "class Solution:\n",
        "    def deleteNode(self, node):\n",
        "        \"\"\"\n",
        "        :type node: ListNode\n",
        "        :rtype: void Do not return anything, modify node in-place instead.\n",
        "        \"\"\"\n",
        "        if node.next!=None:\n",
        "            node.val = node.next.val\n",
        "            node.next = node.next.next"
      ],
      "execution_count": null,
      "outputs": []
    },
    {
      "cell_type": "markdown",
      "metadata": {
        "id": "LGnA995rq0zB",
        "colab_type": "text"
      },
      "source": [
        "### Remove Nth Node from end of list (pg 99 EPIiP)\n",
        "Given a linked list, remove the n-th node from the end of list and return its head.\n",
        "\n",
        "Example:\n",
        "\n",
        "Given linked list: 1->2->3->4->5, and n = 2. After removing the second node from the end, the linked list becomes 1->2->3->5.\n",
        "\n",
        "Note:Given n will always be valid.\n",
        "\n",
        "Follow up:Could you do this in one pass?\n"
      ]
    },
    {
      "cell_type": "code",
      "metadata": {
        "id": "IYFfmn5Wq0zB",
        "colab_type": "code",
        "colab": {}
      },
      "source": [
        "# multiple passes, loop through the list with a counter, and then remove nth node from the end\n",
        "# makes use of the dummy variable, usefil for linked list problems\n",
        "\n",
        "# find the length of the list N\n",
        "        # locate the node N-n\n",
        "        cur = head\n",
        "        count = 0\n",
        "        while(cur):\n",
        "            count+=1\n",
        "            cur=cur.next\n",
        "        \n",
        "        dummy = ListNode(0)\n",
        "        dummy.next = head\n",
        "        cur = dummy\n",
        "        location = count - n # 3\n",
        "        \n",
        "        while(location):\n",
        "            location-=1\n",
        "            cur = cur.next     \n",
        "        cur.next = cur.next.next\n",
        "        \n",
        "        return dummy.next \n"
      ],
      "execution_count": null,
      "outputs": []
    },
    {
      "cell_type": "code",
      "metadata": {
        "id": "_x7MDGQoq0zD",
        "colab_type": "code",
        "colab": {}
      },
      "source": [
        "# one pass solution involves two pointers, fast and slow\n",
        "\n",
        "# Definition for singly-linked list.\n",
        "# class ListNode:\n",
        "#     def __init__(self, val=0, next=None):\n",
        "#         self.val = val\n",
        "#         self.next = next\n",
        "class Solution:\n",
        "    def removeNthFromEnd(self, head: ListNode, n: int) -> ListNode:\n",
        "        fast = slow = head\n",
        "        for _ in range(n):\n",
        "            fast = fast.next\n",
        "        if not fast:\n",
        "            return head.next\n",
        "        while fast.next:\n",
        "            fast = fast.next\n",
        "            slow = slow.next\n",
        "        slow.next = slow.next.next\n",
        "        return head"
      ],
      "execution_count": null,
      "outputs": []
    },
    {
      "cell_type": "markdown",
      "metadata": {
        "id": "x5SGbGxoq0zF",
        "colab_type": "text"
      },
      "source": [
        "### Reverse Singly Linked List\n",
        "\n",
        "Input: 1->2->3->4->5->NULL\n",
        "Output: 5->4->3->2->1->NULL"
      ]
    },
    {
      "cell_type": "code",
      "metadata": {
        "id": "XtDM6LuYq0zG",
        "colab_type": "code",
        "colab": {}
      },
      "source": [
        "## ITERATIVE SOLUTION\n",
        "\n",
        "# Definition for singly-linked list.\n",
        "# class ListNode:\n",
        "#     def __init__(self, val=0, next=None):\n",
        "#         self.val = val\n",
        "#         self.next = next\n",
        "class Solution:\n",
        "    def reverseList(self, head: ListNode) -> ListNode:\n",
        "        \n",
        "        prev= None\n",
        "        curr= head\n",
        "        next= None\n",
        "            \n",
        "        while curr:\n",
        "            next= curr.next\n",
        "            curr.next= prev\n",
        "            prev= curr\n",
        "            curr= next\n",
        "        return prev"
      ],
      "execution_count": null,
      "outputs": []
    },
    {
      "cell_type": "code",
      "metadata": {
        "id": "fzgbZSiiq0zI",
        "colab_type": "code",
        "colab": {}
      },
      "source": [
        "## RECURSIVE SOLUTION\n",
        "\n",
        "# Definition for singly-linked list.\n",
        "# class ListNode:\n",
        "#     def __init__(self, val=0, next=None):\n",
        "#         self.val = val\n",
        "#         self.next = next\n",
        "class Solution:\n",
        "    def reverseList(self, head: ListNode, prev=None) -> ListNode:\n",
        "        \n",
        "        if head is None:\n",
        "            return prev\n",
        "        \n",
        "        next= head.next\n",
        "        head.next= prev\n",
        "        \n",
        "        return self.reverseList(next,head)\n"
      ],
      "execution_count": null,
      "outputs": []
    },
    {
      "cell_type": "markdown",
      "metadata": {
        "id": "JMpc3DJDq0zM",
        "colab_type": "text"
      },
      "source": [
        "### Linked List Cycle\n",
        "\n",
        "Given a linked list, determine if it has a cycle. To represent a cycle in the given linked list, we use an integer pos which represents the position (0-indexed) in the linked list where tail connects to. If pos is -1, then there is no cycle in the linked list.\n",
        "\n",
        "Input: head = [3,2,0,-4], pos = 1\n",
        "\n",
        "Output: true\n",
        "\n",
        "Explanation: There is a cycle in the linked list, where tail connects to the second node.\n",
        "![image.png](attachment:image.png)"
      ]
    },
    {
      "cell_type": "code",
      "metadata": {
        "id": "oZDp4-WEq0zM",
        "colab_type": "code",
        "colab": {}
      },
      "source": [
        "## HASH METHOD O(n) complexity, O(n) space complexity\n",
        "\n",
        "# Definition for singly-linked list.\n",
        "# class ListNode:\n",
        "#     def __init__(self, x):\n",
        "#         self.val = x\n",
        "#         self.next = None\n",
        "\n",
        "class Solution:\n",
        "    def hasCycle(self, head: ListNode) -> bool:\n",
        "        \n",
        "        seen=set()\n",
        "        while head:\n",
        "            if head.next is None:\n",
        "                return False\n",
        "            \n",
        "            if head in seen:\n",
        "                return True\n",
        "            else:\n",
        "                seen.add(head)\n",
        "                head=head.next"
      ],
      "execution_count": null,
      "outputs": []
    },
    {
      "cell_type": "code",
      "metadata": {
        "id": "AuuaOOnRq0zP",
        "colab_type": "code",
        "colab": {}
      },
      "source": [
        "## TWO POINTER METHOD, O(n) worst case complexity, O(1) space complexity \n",
        "\n",
        "# Definition for singly-linked list.\n",
        "# class ListNode:\n",
        "#     def __init__(self, x):\n",
        "#         self.val = x\n",
        "#         self.next = None\n",
        "\n",
        "class Solution:\n",
        "    def hasCycle(self, head: ListNode) -> bool:\n",
        "        \n",
        "        if not head:\n",
        "            return False\n",
        "        \n",
        "        fast= head.next\n",
        "        slow= head\n",
        "        \n",
        "        while fast != slow:\n",
        "            if fast is None or fast.next is None:\n",
        "                return False\n",
        "            \n",
        "            fast= fast.next.next\n",
        "            slow= slow.next\n",
        "        \n",
        "        return True"
      ],
      "execution_count": null,
      "outputs": []
    },
    {
      "cell_type": "markdown",
      "metadata": {
        "id": "UfMzSc4Oq0zU",
        "colab_type": "text"
      },
      "source": [
        "## Trees\n",
        "Expect to have to initialize your own tree node class in an interview. "
      ]
    },
    {
      "cell_type": "markdown",
      "metadata": {
        "id": "mahHpafQq0zU",
        "colab_type": "text"
      },
      "source": [
        "### Maximum Depth of Binary Tree\n",
        "Given a binary tree, find its maximum depth. The maximum depth is the number of nodes along the longest path from the root node down to the farthest leaf node.\n",
        "\n",
        "Note: A leaf is a node with no children.\n",
        "\n",
        "Example: Given binary tree [3,9,20,null,null,15,7],"
      ]
    },
    {
      "cell_type": "code",
      "metadata": {
        "id": "9Ln_021hq0zV",
        "colab_type": "code",
        "colab": {}
      },
      "source": [
        "# Definition for a binary tree node.\n",
        "# class TreeNode:\n",
        "#     def __init__(self, val=0, left=None, right=None):\n",
        "#         self.val = val\n",
        "#         self.left = left\n",
        "#         self.right = right\n",
        "def maxDepth(self, root: TreeNode) -> int:\n",
        "        def maxi(root):\n",
        "            if not root:\n",
        "                return 0\n",
        "            left = 1 + maxi(root.left)\n",
        "            right = 1 + maxi(root.right)\n",
        "            return max(left, right)\n",
        "        return maxi(root)"
      ],
      "execution_count": null,
      "outputs": []
    },
    {
      "cell_type": "code",
      "metadata": {
        "id": "_iHBhreXq0zX",
        "colab_type": "code",
        "colab": {}
      },
      "source": [
        "# Definition for a binary tree node.\n",
        "# class TreeNode:\n",
        "#     def __init__(self, val=0, left=None, right=None):\n",
        "#         self.val = val\n",
        "#         self.left = left\n",
        "#         self.right = right\n",
        "    def mdfxn(root):\n",
        "        if root is None:\n",
        "            return 0\n",
        "        else:\n",
        "            lh= mdfxn(root.left)\n",
        "            rh= mdfxn(root.right)\n",
        "\n",
        "            if lh>rh:\n",
        "                return lh+1\n",
        "            else:\n",
        "                return rh+1\n",
        "    return mdfxn(root)"
      ],
      "execution_count": null,
      "outputs": []
    },
    {
      "cell_type": "markdown",
      "metadata": {
        "id": "lLtvx5Opq0za",
        "colab_type": "text"
      },
      "source": [
        "### Validate Binary Search Tree (EPI pg 213)\n",
        "Given a binary tree, determine if it is a valid binary search tree (BST).\n",
        "Assume a BST is defined as follows:\n",
        "\n",
        "    The left subtree of a node contains only nodes with keys less than the node's key.\n",
        "    The right subtree of a node contains only nodes with keys greater than the node's key.\n",
        "    Both the left and right subtrees must also be binary search trees.\n"
      ]
    },
    {
      "cell_type": "code",
      "metadata": {
        "id": "kYWReA7Eq0zb",
        "colab_type": "code",
        "colab": {}
      },
      "source": [
        "\n",
        "def isValidBST(self, root):\n",
        "        pre, cur, stack = None, root, []\n",
        "        while stack or cur:\n",
        "            while cur:\n",
        "                stack.append(cur)\n",
        "                cur = cur.left\n",
        "            s = stack.pop()\n",
        "            if pre and s.val <= pre.val:\n",
        "                return False\n",
        "            pre, cur = s, s.right\n",
        "        return True\n"
      ],
      "execution_count": null,
      "outputs": []
    },
    {
      "cell_type": "code",
      "metadata": {
        "id": "T8OyHAvyq0zd",
        "colab_type": "code",
        "colab": {}
      },
      "source": [
        "#inorder traversal (O(N) time, O(N) space)\n",
        "class Solution:\n",
        "    def isValidBST(self, root):\n",
        "        \"\"\"\n",
        "        :type root: TreeNode\n",
        "        :rtype: bool\n",
        "        \"\"\"\n",
        "        stack, inorder = [], float('-inf')\n",
        "        \n",
        "        while stack or root:\n",
        "            while root:\n",
        "                stack.append(root)\n",
        "                root = root.left\n",
        "            root = stack.pop()\n",
        "            # If next element in inorder traversal\n",
        "            # is smaller than the previous one\n",
        "            # that's not BST.\n",
        "            if root.val <= inorder:\n",
        "                return False\n",
        "            inorder = root.val\n",
        "            root = root.right\n",
        "\n",
        "        return True"
      ],
      "execution_count": null,
      "outputs": []
    },
    {
      "cell_type": "code",
      "metadata": {
        "id": "Xji8yItbq0zg",
        "colab_type": "code",
        "colab": {}
      },
      "source": [
        "# Iteration solution (O(N) time, O(N)space)\n",
        "class Solution:\n",
        "    def isValidBST(self, root):\n",
        "        \"\"\"\n",
        "        :type root: TreeNode\n",
        "        :rtype: bool\n",
        "        \"\"\"\n",
        "        if not root:\n",
        "            return True\n",
        "            \n",
        "        stack = [(root, float('-inf'), float('inf')), ] \n",
        "        while stack:\n",
        "            root, lower, upper = stack.pop()\n",
        "            if not root:\n",
        "                continue\n",
        "            val = root.val\n",
        "            if val <= lower or val >= upper:\n",
        "                return False\n",
        "            stack.append((root.right, val, upper))\n",
        "            stack.append((root.left, lower, val))\n",
        "        return True"
      ],
      "execution_count": null,
      "outputs": []
    },
    {
      "cell_type": "code",
      "metadata": {
        "id": "SULJ5idNq0zi",
        "colab_type": "code",
        "colab": {},
        "outputId": "1f20304f-7e6d-4477-e698-3bfd07026f6b"
      },
      "source": [
        "# Definition for a binary tree node.\n",
        "class TreeNode:\n",
        "    def __init__(self, x):\n",
        "        self.val = x\n",
        "        self.left = None\n",
        "        self.right = None\n",
        "\n",
        "# O(N) time and space\n",
        "class Solution:\n",
        "    def isValidBST(self, root):\n",
        "        \"\"\"\n",
        "        :type root: TreeNode\n",
        "        :rtype: bool\n",
        "        \"\"\"\n",
        "        def helper(node, lower = float('-inf'), upper = float('inf')):\n",
        "            if not node:\n",
        "                return True\n",
        "            \n",
        "            val = node.val\n",
        "            if val <= lower or val >= upper:\n",
        "                return False\n",
        "\n",
        "            if not helper(node.right, val, upper):\n",
        "                return False\n",
        "            if not helper(node.left, lower, val):\n",
        "                return False\n",
        "            return True\n",
        "\n",
        "        return helper(root)"
      ],
      "execution_count": null,
      "outputs": [
        {
          "output_type": "execute_result",
          "data": {
            "text/plain": [
              "False"
            ]
          },
          "metadata": {
            "tags": []
          },
          "execution_count": 9
        }
      ]
    },
    {
      "cell_type": "markdown",
      "metadata": {
        "id": "UZnPWoNhq0zn",
        "colab_type": "text"
      },
      "source": [
        "### Check if Binary Tree is Symmetric (EPI, pg 125)\n",
        "\n",
        "Given a binary tree, check whether it is a mirror of itself (ie, symmetric around its center).\n",
        "\n",
        "For example, this binary tree [1,2,2,3,4,4,3] is symmetric:\n",
        "\n",
        "Solve by computing the mirror image and seeing if the mirror image is equal to the original tree."
      ]
    },
    {
      "cell_type": "code",
      "metadata": {
        "id": "RsdK1CwNq0zn",
        "colab_type": "code",
        "colab": {}
      },
      "source": [
        "# Recursive solution\n",
        "\n",
        "# Definition for a binary tree node.\n",
        "# class TreeNode:\n",
        "#     def __init__(self, val=0, left=None, right=None):\n",
        "#         self.val = val\n",
        "#         self.left = left\n",
        "#         self.right = right\n",
        "class Solution:\n",
        "    def isSymmetric(self, root: TreeNode) -> bool:\n",
        "        \n",
        "        if not root:\n",
        "            return True\n",
        "        \n",
        "        def mirror(sub1,sub2):\n",
        "            if not sub1 and not sub2:\n",
        "                return True\n",
        "            elif sub1 and sub2:\n",
        "                #returns true if the current roots are equal, the outer branches are equal, and the inner are equal\n",
        "                return sub1.val== sub2.val and mirror(sub1.left, sub2.right) and mirror(sub1.right, sub2.left)\n",
        "            return False\n",
        "        \n",
        "        return not root or mirror(root.left, root.right) #returns true if root is empty or if mirror fxn is true"
      ],
      "execution_count": null,
      "outputs": []
    },
    {
      "cell_type": "code",
      "metadata": {
        "id": "p_DD00dFq0zp",
        "colab_type": "code",
        "colab": {}
      },
      "source": [
        ""
      ],
      "execution_count": null,
      "outputs": []
    },
    {
      "cell_type": "markdown",
      "metadata": {
        "id": "R88fYKwXq0zq",
        "colab_type": "text"
      },
      "source": [
        "### Binary Tree Level Order Traversal (EPI pg 115)\n",
        "\n",
        "Given a binary tree, return the level order traversal of its nodes' values. (ie, from left to right, level by level).\n",
        "\n",
        "For example:\n",
        "Given binary tree [3,9,20,null,null,15,7],\n",
        "return traversal as [\n",
        "  [3],\n",
        "  [9,20],\n",
        "  [15,7]\n",
        "]\n",
        "\n",
        "EPI implements this with queues"
      ]
    },
    {
      "cell_type": "code",
      "metadata": {
        "id": "r22blr3Cq0zr",
        "colab_type": "code",
        "colab": {}
      },
      "source": [
        "# Definition for a binary tree node.\n",
        "# class TreeNode:\n",
        "#     def __init__(self, val=0, left=None, right=None):\n",
        "#         self.val = val\n",
        "#         self.left = left\n",
        "#         self.right = right\n",
        "class Solution:\n",
        "    def levelOrder(self, root: TreeNode) -> List[List[int]]:\n",
        "        \n",
        "        levels= defaultdict(list)\n",
        "        \n",
        "        def traverse(node, i):\n",
        "            if node:\n",
        "                levels[i].append(node.val)\n",
        "                return traverse(node.left, i+1), traverse(node.right, i+1)\n",
        "        \n",
        "        traverse(root,0)\n",
        "        \n",
        "        return levels.values()"
      ],
      "execution_count": null,
      "outputs": []
    },
    {
      "cell_type": "markdown",
      "metadata": {
        "id": "zS9rPpWvq0zt",
        "colab_type": "text"
      },
      "source": [
        "### Convert Sorted Array to Binary Search Tree (EPI pg 135, pg 218)\n",
        "Given an array where elements are sorted in ascending order, convert it to a height balanced BST.\n",
        "\n",
        "For this problem, a height-balanced binary tree is defined as a binary tree in which the depth of the two subtrees of every node never differ by more than 1.\n",
        "\n",
        "Given the sorted array: [-10,-3,0,5,9],\n",
        "\n",
        "One possible answer is: [0,-3,9,-10,null,5]"
      ]
    },
    {
      "cell_type": "code",
      "metadata": {
        "id": "xsn3nLwCq0zv",
        "colab_type": "code",
        "colab": {}
      },
      "source": [
        "# Definition for a binary tree node.\n",
        "# class TreeNode:\n",
        "#     def __init__(self, val=0, left=None, right=None):\n",
        "#         self.val = val\n",
        "#         self.left = left\n",
        "#         self.right = right\n",
        "class Solution:\n",
        "    def sortedArrayToBST(self, nums: List[int]) -> TreeNode:\n",
        "        \n",
        "        if not nums:\n",
        "            return None\n",
        "        \n",
        "        mid = len(nums)//2\n",
        "        node = TreeNode(nums[mid])\n",
        "        node.left = self.sortedArrayToBST(nums[:mid])\n",
        "        node.right = self.sortedArrayToBST(nums[mid+1:])\n",
        "        \n",
        "        return node"
      ],
      "execution_count": null,
      "outputs": []
    },
    {
      "cell_type": "code",
      "metadata": {
        "id": "yr5BiZvSq0zy",
        "colab_type": "code",
        "colab": {}
      },
      "source": [
        ""
      ],
      "execution_count": null,
      "outputs": []
    },
    {
      "cell_type": "code",
      "metadata": {
        "id": "qDZPpM0lq0z0",
        "colab_type": "code",
        "colab": {}
      },
      "source": [
        ""
      ],
      "execution_count": null,
      "outputs": []
    },
    {
      "cell_type": "markdown",
      "metadata": {
        "id": "oeWbFvJiq0z3",
        "colab_type": "text"
      },
      "source": [
        "## Sort and Search"
      ]
    },
    {
      "cell_type": "markdown",
      "metadata": {
        "id": "VyCKZOnrq0z3",
        "colab_type": "text"
      },
      "source": [
        "### Merge Sorted Array (EPI pg 92, sorted LL, EPI pg 195 sorted arrays)\n",
        "Given two sorted integer arrays nums1 and nums2, merge nums2 into nums1 as one sorted array.\n",
        "\n",
        "Note:\n",
        "The number of elements initialized in nums1 and nums2 are m and n respectively. You may assume that nums1 has enough space (size that is equal to m + n) to hold additional elements from nums2.\n",
        "\n",
        "Input:\n",
        "nums1 = [1,2,3,0,0,0], m = 3\n",
        "nums2 = [2,5,6],       n = 3\n",
        "\n",
        "Output: [1,2,2,3,5,6]\n"
      ]
    },
    {
      "cell_type": "code",
      "metadata": {
        "id": "rzhiYdVqq0z3",
        "colab_type": "code",
        "colab": {}
      },
      "source": [
        "## Trivial Solution would be adding the arrays together and then sorting\n",
        "class Solution:\n",
        "    def merge(self, nums1: List[int], m: int, nums2: List[int], n: int) -> None:\n",
        "        \"\"\"\n",
        "        Do not return anything, modify nums1 in-place instead.\n",
        "        \"\"\"\n",
        "        i=m-1\n",
        "        j=n-1\n",
        "        k=m+n-1\n",
        "        \n",
        "        while i>=0 and j>=0:\n",
        "            if nums1[i]>nums2[j]:\n",
        "                nums1[k] =nums1[i]\n",
        "                i-=1\n",
        "            else:\n",
        "                nums1[k] =nums2[j]\n",
        "                j-=1\n",
        "\n",
        "            k-=1\n",
        "\n",
        "        if i==-1:\n",
        "            # if i=-1, there is nothing in the array, so you can add in all of nums2 to nums1\n",
        "            nums1[:j+1]=nums2[:j+1]"
      ],
      "execution_count": null,
      "outputs": []
    },
    {
      "cell_type": "markdown",
      "metadata": {
        "id": "bdKPUtCuq0z5",
        "colab_type": "text"
      },
      "source": [
        "### First Bad Version\n",
        "You are a product manager and currently leading a team to develop a new product. Unfortunately, the latest version of your product fails the quality check. Since each version is developed based on the previous version, all the versions after a bad version are also bad.\n",
        "\n",
        "Suppose you have n versions [1, 2, ..., n] and you want to find out the first bad one, which causes all the following ones to be bad.\n",
        "\n",
        "You are given an API bool isBadVersion(version) which will return whether version is bad. Implement a function to find the first bad version. You should minimize the number of calls to the API.\n",
        "\n",
        "Example:\n",
        "\n",
        "Given n = 5, and version = 4 is the first bad version.\n",
        "\n",
        "call isBadVersion(3) -> false\n",
        "call isBadVersion(5) -> true\n",
        "call isBadVersion(4) -> true\n",
        "\n",
        "Then 4 is the first bad version. "
      ]
    },
    {
      "cell_type": "code",
      "metadata": {
        "id": "Bb_3YVeMq0z5",
        "colab_type": "code",
        "colab": {}
      },
      "source": [
        "# The isBadVersion API is already defined for you.\n",
        "# @param version, an integer\n",
        "# @return an integer\n",
        "# def isBadVersion(version):\n",
        "\n",
        "class Solution:\n",
        "    def firstBadVersion(self, n):\n",
        "        \"\"\"\n",
        "        :type n: int\n",
        "        :rtype: int\n",
        "        \"\"\"\n",
        "        \n",
        "        # binary search go brrrrrr\n",
        "        def bsearch(L,R):\n",
        "            if isBadVersion(R) and not isBadVersion(L):\n",
        "                mid= L+(R-L)//2\n",
        "\n",
        "            if isBadVersion(mid)== True:\n",
        "                if isBadVersion(mid-1)==False or mid==0:\n",
        "                    return mid\n",
        "                else:\n",
        "                    return bsearch(L, mid)\n",
        "            else:\n",
        "                if isBadVersion(mid+1)==True or mid==n:\n",
        "                    return mid+1\n",
        "                else:\n",
        "                    return bsearch(mid, R)\n",
        "        \n",
        "        return bsearch(0,n)"
      ],
      "execution_count": null,
      "outputs": []
    },
    {
      "cell_type": "markdown",
      "metadata": {
        "id": "5AQ6UR8fq0z7",
        "colab_type": "text"
      },
      "source": [
        "## Dynamic Programming"
      ]
    },
    {
      "cell_type": "markdown",
      "metadata": {
        "id": "PlGhr-EBq0z7",
        "colab_type": "text"
      },
      "source": [
        "### Climbing Stairs (similar to Fibonacci, pg 249 EPI)\n",
        "O(kn) solution for EPI pg 270, for 1-k steps, n steps up\n",
        "You are climbing a stair case. It takes n steps to reach to the top.\n",
        "\n",
        "Each time you can either climb 1 or 2 steps. In how many distinct ways can you climb to the top?\n",
        "\n",
        "Example 1:\n",
        "\n",
        "Input: 2\n",
        "Output: 2\n",
        "Explanation: There are two ways to climb to the top.\n",
        "1. 1 step + 1 step\n",
        "2. 2 steps\n",
        "\n",
        "This link has all possible solutions, including a logn one https://leetcode.com/articles/climbing-stairs/#"
      ]
    },
    {
      "cell_type": "code",
      "metadata": {
        "id": "0h9jGbW3q0z7",
        "colab_type": "code",
        "colab": {}
      },
      "source": [
        "# brute force first, for science! O(2**n) complexity in time, O(n) in space\n",
        "# In this brute force approach we take all possible step combinations \n",
        "# i.e. 1 and 2, at every step. \n",
        "# like we're \"building up from the bottom\" how many ways we can get to the top of the stairs\n",
        "class Solution:\n",
        "    def climbStairs(self, n: int) -> int:\n",
        "        \n",
        "        def countways(i,n):\n",
        "            #index gone past the number of steps\n",
        "            if i>n:\n",
        "                return 0\n",
        "            #index has arrived at the top of the steps, represents finding one way there\n",
        "            if i==n:\n",
        "                return 1\n",
        "            #index is building up by one step or two steps to get to n\n",
        "            return countways(i+1,n)+countways(i+2,n)\n",
        "        \n",
        "        #starting from zero, get to n steps\n",
        "        return countways(0,n)"
      ],
      "execution_count": null,
      "outputs": []
    },
    {
      "cell_type": "code",
      "metadata": {
        "id": "EON_M-5uq0z-",
        "colab_type": "code",
        "colab": {}
      },
      "source": [
        "# instead, let's approach this with memoization. O(n) in time, O(n) in space\n",
        "# now we can store the result at each index, and call the value we need without being redundant\n",
        "\n",
        "class Solution:\n",
        "    def climbStairs(self, n: int) -> int:\n",
        "        \n",
        "        def countways(i,n, memo:list):\n",
        "            #index gone past the number of steps\n",
        "            if i>n:\n",
        "                return 0\n",
        "            #index has arrived at the top of the steps, represents finding one way there\n",
        "            if i==n:\n",
        "                return 1\n",
        "            #if we have already been to this index, we know how many steps it took \n",
        "            #to get there from the bottom. See if we have a value stored in our array for i steps\n",
        "            #if we have it, then return that instead of doing the calculation\n",
        "            if memo[i]>0:\n",
        "                return memo[i]\n",
        "            \n",
        "            #store the number of ways to get to each index when we visit the first time\n",
        "            #then return the value\n",
        "            memo[i]= countways(i+1,n, memo)+countways(i+2,n, memo)\n",
        "            return memo[i]\n",
        "        \n",
        "        # starting from 0, get to n steps, and here is an array of n zeros to store ways in\n",
        "        return countways(0,n,[0]*n)"
      ],
      "execution_count": null,
      "outputs": []
    },
    {
      "cell_type": "markdown",
      "metadata": {
        "id": "jyZu1TPkq00A",
        "colab_type": "text"
      },
      "source": [
        "As we can see this problem can be broken into subproblems, and it contains the optimal substructure property i.e. its optimal solution can be constructed efficiently from optimal solutions of its subproblems, we can use dynamic programming to solve this problem."
      ]
    },
    {
      "cell_type": "code",
      "metadata": {
        "id": "wXbFUWwiq00A",
        "colab_type": "code",
        "colab": {}
      },
      "source": [
        "# you can reach the top in two ways: taking a single step from the i-1 step, or taking two steps from the i-2 step\n",
        "# so the total ways of reaching the ith step is equal to the number of ways to reach the i-1th step and i-2th step\n",
        "# time: O(n), space O(n)\n",
        "class Solution:\n",
        "    def climbStairs(self, n: int) -> int:\n",
        "            # housekeeping, if there's only one step\n",
        "            if n==1:\n",
        "                return 1\n",
        "            \n",
        "            # define an array to store all of the possible ways, and initialize the first few values\n",
        "            dp=[0]*(n+1)\n",
        "            dp[1]=1\n",
        "            dp[2]=2\n",
        "            \n",
        "            # then using the optimal solutions of subproblems, fill in the array given what you know about\n",
        "            # the first few values\n",
        "            for i in range(3,n+1):\n",
        "                dp[i] = dp[i-1]+dp[i-2]\n",
        "            \n",
        "            # return the last value\n",
        "            return dp[n]"
      ],
      "execution_count": null,
      "outputs": []
    },
    {
      "cell_type": "markdown",
      "metadata": {
        "id": "FfqI84oDq00D",
        "colab_type": "text"
      },
      "source": [
        "### Best time to Buy and Sell Stock (pg 51 EPI)\n",
        "Say you have an array for which the ith element is the price of a given stock on day i.\n",
        "\n",
        "If you were *only permitted to complete at most one transaction* (i.e., buy one and sell one share of the stock), design an algorithm to find the maximum profit.\n",
        "\n",
        "Note that you cannot sell a stock before you buy one.\n",
        "\n",
        "Input: [7,1,5,3,6,4]\n",
        "Output: 5\n",
        "Explanation: Buy on day 2 (price = 1) and sell on day 5 (price = 6), profit = 6-1 = 5.\n",
        "             Not 7-1 = 6, as selling price needs to be larger than buying price.\n",
        "             \n",
        "Input: [7,6,4,3,1]\n",
        "Output: 0\n",
        "Explanation: In this case, no transaction is done, i.e. max profit = 0."
      ]
    },
    {
      "cell_type": "code",
      "metadata": {
        "id": "zYZbyz_fq00D",
        "colab_type": "code",
        "colab": {}
      },
      "source": [
        "#time: O(n), space O(1)\n",
        "\n",
        "class Solution:\n",
        "    def maxProfit(self, prices: List[int]) -> int:\n",
        "        \n",
        "        if prices: \n",
        "            min_price= prices[0]+1\n",
        "            max_profit= 0\n",
        "\n",
        "            for price in prices:\n",
        "                current= price-min_price\n",
        "                max_profit= max(max_profit, current)\n",
        "                min_price= min(min_price,price)\n",
        "        else:\n",
        "            return 0\n",
        "        \n",
        "        return max_profit"
      ],
      "execution_count": null,
      "outputs": []
    },
    {
      "cell_type": "code",
      "metadata": {
        "id": "ArRCROh6q00F",
        "colab_type": "code",
        "colab": {}
      },
      "source": [
        ""
      ],
      "execution_count": null,
      "outputs": []
    },
    {
      "cell_type": "code",
      "metadata": {
        "id": "mF6AdcPoq00H",
        "colab_type": "code",
        "colab": {}
      },
      "source": [
        ""
      ],
      "execution_count": null,
      "outputs": []
    }
  ]
}