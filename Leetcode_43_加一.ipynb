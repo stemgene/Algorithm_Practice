{
  "nbformat": 4,
  "nbformat_minor": 0,
  "metadata": {
    "colab": {
      "name": "Leetcode 43 加一.ipynb",
      "provenance": [],
      "authorship_tag": "ABX9TyNfIFBWNlasOdt2vtwkqDZY",
      "include_colab_link": true
    },
    "kernelspec": {
      "name": "python3",
      "display_name": "Python 3"
    }
  },
  "cells": [
    {
      "cell_type": "markdown",
      "metadata": {
        "id": "view-in-github",
        "colab_type": "text"
      },
      "source": [
        "<a href=\"https://colab.research.google.com/github/stemgene/Algorithm_Practice/blob/master/Leetcode_43_%E5%8A%A0%E4%B8%80.ipynb\" target=\"_parent\"><img src=\"https://colab.research.google.com/assets/colab-badge.svg\" alt=\"Open In Colab\"/></a>"
      ]
    },
    {
      "cell_type": "markdown",
      "metadata": {
        "id": "gIagZsckMAd3",
        "colab_type": "text"
      },
      "source": [
        "给定一个由整数组成的非空数组所表示的非负整数，在该数的基础上加一。\n",
        "\n",
        "最高位数字存放在数组的首位， 数组中每个元素只存储单个数字。\n",
        "\n",
        "你可以假设除了整数 0 之外，这个整数不会以零开头。\n",
        "\n",
        "示例 1:\n",
        "```\n",
        "输入: [1,2,3]\n",
        "输出: [1,2,4]\n",
        "解释: 输入数组表示数字 123。\n",
        "```\n",
        "示例 2:\n",
        "```\n",
        "输入: [4,3,2,1]\n",
        "输出: [4,3,2,2]\n",
        "解释: 输入数组表示数字 4321。\n",
        "```\n",
        "示例 3:\n",
        "```\n",
        "输入: [9, 9]\n",
        "输出: [1, 0, 0]\n",
        "解释: 输入数组表示数字 99。\n",
        "```\n",
        "来源：力扣（LeetCode）\n",
        "链接：https://leetcode-cn.com/problems/plus-one\n",
        "著作权归领扣网络所有。商业转载请联系官方授权，非商业转载请注明出处。"
      ]
    },
    {
      "cell_type": "markdown",
      "metadata": {
        "id": "YvbgBnMgMQas",
        "colab_type": "text"
      },
      "source": [
        "思路：\n",
        "1. 将数组中的各个digit合并成integer. 如[1,2,3,4,5]需要转换为`1*10^(n-1)+2*10^(n-2)...`\n",
        "2. `+ 1`\n",
        "3. 通过`list(str(num))`来打散整数到各个数字，但返回的都是str，需要再转成int\n",
        "4. 将list中的各个元素转成int"
      ]
    },
    {
      "cell_type": "code",
      "metadata": {
        "id": "nybW_Ep4L-6k",
        "colab_type": "code",
        "colab": {
          "base_uri": "https://localhost:8080/",
          "height": 34
        },
        "outputId": "42a6978b-2fcb-4bc1-d667-ec0b25ad1759"
      },
      "source": [
        "def plusOne(digits):\n",
        "  n = len(digits)\n",
        "  num = 0\n",
        "  for i in range(n):\n",
        "    num += digits[i] * 10 ** (n-i-1)\n",
        "  num += 1\n",
        "  new_list = list(str(num))\n",
        "  result = map(lambda x: int(x), new_list) # map(function, iterate)，返回的是map格式，需要list(result)\n",
        "  return list(result)\n",
        "\n",
        "plusOne([1,2,3])"
      ],
      "execution_count": 18,
      "outputs": [
        {
          "output_type": "execute_result",
          "data": {
            "text/plain": [
              "[1, 2, 4]"
            ]
          },
          "metadata": {
            "tags": []
          },
          "execution_count": 18
        }
      ]
    },
    {
      "cell_type": "code",
      "metadata": {
        "id": "scvBNmknVRBs",
        "colab_type": "code",
        "colab": {
          "base_uri": "https://localhost:8080/",
          "height": 34
        },
        "outputId": "44ade847-1cd5-4756-8966-652650f8939b"
      },
      "source": [
        "list('str')"
      ],
      "execution_count": 11,
      "outputs": [
        {
          "output_type": "execute_result",
          "data": {
            "text/plain": [
              "['s', 't', 'r']"
            ]
          },
          "metadata": {
            "tags": []
          },
          "execution_count": 11
        }
      ]
    },
    {
      "cell_type": "code",
      "metadata": {
        "id": "SgSdjSxrVwd1",
        "colab_type": "code",
        "colab": {}
      },
      "source": [
        ""
      ],
      "execution_count": null,
      "outputs": []
    }
  ]
}