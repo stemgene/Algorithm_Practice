{
  "nbformat": 4,
  "nbformat_minor": 0,
  "metadata": {
    "colab": {
      "name": "Leetcode 189 数组转移.ipynb",
      "provenance": [],
      "authorship_tag": "ABX9TyN/SJjk5sHye9oIcRe5aQjy",
      "include_colab_link": true
    },
    "kernelspec": {
      "name": "python3",
      "display_name": "Python 3"
    }
  },
  "cells": [
    {
      "cell_type": "markdown",
      "metadata": {
        "id": "view-in-github",
        "colab_type": "text"
      },
      "source": [
        "<a href=\"https://colab.research.google.com/github/stemgene/Algorithm_Practice/blob/master/Leetcode_189_%E6%95%B0%E7%BB%84%E8%BD%AC%E7%A7%BB.ipynb\" target=\"_parent\"><img src=\"https://colab.research.google.com/assets/colab-badge.svg\" alt=\"Open In Colab\"/></a>"
      ]
    },
    {
      "cell_type": "markdown",
      "metadata": {
        "id": "1d9iuJQBHynl",
        "colab_type": "text"
      },
      "source": [
        "给定一个数组，将数组中的元素向右移动 k 个位置，其中 k 是非负数。\n",
        "\n",
        "示例 1:\n",
        "\n",
        "```\n",
        "输入: [1,2,3,4,5,6,7] 和 k = 3\n",
        "输出: [5,6,7,1,2,3,4]\n",
        "解释:\n",
        "向右旋转 1 步: [7,1,2,3,4,5,6]\n",
        "向右旋转 2 步: [6,7,1,2,3,4,5]\n",
        "向右旋转 3 步: [5,6,7,1,2,3,4]\n",
        "```\n",
        "示例 2:\n",
        "\n",
        "```\n",
        "输入: [-1,-100,3,99] 和 k = 2\n",
        "输出: [3,99,-1,-100]\n",
        "解释: \n",
        "向右旋转 1 步: [99,-1,-100,3]\n",
        "向右旋转 2 步: [3,99,-1,-100]\n",
        "```\n",
        "\n",
        "说明:\n",
        "\n",
        "尽可能想出更多的解决方案，至少有三种不同的方法可以解决这个问题。\n",
        "要求使用空间复杂度为 O(1) 的 原地 算法。\n",
        "\n",
        "作者：力扣 (LeetCode)\n",
        "链接：https://leetcode-cn.com/leetbook/read/top-interview-questions-easy/x2skh7/"
      ]
    },
    {
      "cell_type": "code",
      "metadata": {
        "id": "5GSqO12JHxQG",
        "colab_type": "code",
        "colab": {}
      },
      "source": [
        "class Solution:\n",
        "    def rotate(self, nums: List[int], k: int) -> None:\n",
        "        \"\"\"\n",
        "        Do not return anything, modify nums in-place instead.\n",
        "        \"\"\"\n",
        "        if k > len(nums):\n",
        "            k = k%len(nums)\n",
        "        end = nums[-k:]\n",
        "        print(\"end=\", end)\n",
        "        del nums[-k:]\n",
        "        nums[0:0] = end\n",
        "        print(nums)"
      ],
      "execution_count": null,
      "outputs": []
    },
    {
      "cell_type": "markdown",
      "metadata": {
        "id": "n79V8fgLJasa",
        "colab_type": "text"
      },
      "source": [
        "Python将多个list合并为1个list\n",
        "\n",
        "https://blog.csdn.net/roytao2/article/details/54180182"
      ]
    }
  ]
}